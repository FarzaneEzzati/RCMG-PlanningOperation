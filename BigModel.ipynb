{
 "cells": [
  {
   "cell_type": "code",
   "execution_count": 29,
   "metadata": {
    "ExecuteTime": {
     "end_time": "2024-12-12T02:58:54.701062100Z",
     "start_time": "2024-12-12T02:58:54.686610800Z"
    },
    "collapsed": false
   },
   "outputs": [],
   "source": [
    "import gurobipy as gp\n",
    "import pandas as pd\n",
    "from gurobipy import GRB\n",
    "from itertools import product\n",
    "from gurobipy import quicksum"
   ]
  },
  {
   "cell_type": "code",
   "execution_count": 2,
   "metadata": {
    "ExecuteTime": {
     "end_time": "2024-12-12T02:44:13.823988900Z",
     "start_time": "2024-12-12T02:44:13.761011400Z"
    },
    "collapsed": false
   },
   "outputs": [],
   "source": [
    "# Using this magic command, we turn on auto-reloading for libraries imported by %aimport\n",
    "%load_ext autoreload\n",
    "%autoreload 1"
   ]
  },
  {
   "cell_type": "code",
   "execution_count": 3,
   "metadata": {
    "ExecuteTime": {
     "end_time": "2024-12-12T02:44:15.796472500Z",
     "start_time": "2024-12-12T02:44:15.760726500Z"
    },
    "collapsed": false
   },
   "outputs": [],
   "source": [
    "%aimport dataPreparation"
   ]
  },
  {
   "cell_type": "code",
   "execution_count": 35,
   "metadata": {
    "ExecuteTime": {
     "end_time": "2024-12-12T03:44:03.699083Z",
     "start_time": "2024-12-12T03:44:03.520489900Z"
    },
    "collapsed": false
   },
   "outputs": [],
   "source": [
    "from dataPreparation import getCommunityData, getOutageDemandData\n",
    "mg_data = getCommunityData('Sunnyside')\n",
    "ldo_data = getOutageDemandData()\n",
    "all_probs = {s: mg_data['pv_pr'][s] * mg_data['load_pr'][s] * ldo_data['po_pr'][s] * ldo_data['ldg_pr'][s] for s in mg_data['pv_pr'].keys()}\n",
    "scenario_probs = {s: all_probs[s] / sum(all_probs.values()) for s in mg_data['pv_pr'].keys()}"
   ]
  },
  {
   "cell_type": "code",
   "execution_count": 32,
   "metadata": {
    "ExecuteTime": {
     "end_time": "2024-12-12T03:09:36.366049700Z",
     "start_time": "2024-12-12T03:09:36.335276200Z"
    },
    "collapsed": false
   },
   "outputs": [],
   "source": [
    "I = 3\n",
    "T = 168\n",
    "D = 3\n",
    "G = 12\n",
    "OS = 16  # hour that outage starts\n",
    "S = 2  # scenarios\n",
    "P = 2 # before and after expansion\n",
    "L = len(mg_data['F']) # count of locations\n",
    "# devices\n",
    "PH = 20  # planning horizon\n",
    "RH = 10  # reinvestment horizon (year)\n",
    "to_year = (365 / 7) / G\n",
    "o_rate = 0.01  # operational rate\n",
    "ir_rate = 0.02  # interest rate\n",
    "pa_factor1 = ((1 + ir_rate) ** PH - 1) / (ir_rate * (1 + ir_rate) ** PH)\n",
    "pa_factor2 = ((1 + ir_rate) ** (PH - RH) - 1) / (ir_rate * (1 + ir_rate) ** (PH - RH))\n",
    "pf_factor = 1 / (1 + ir_rate) ** RH\n",
    "C = {0: 300, 1: 1400, 2: 400}\n",
    "CO1 = {d: C[d] * (1 + o_rate * pa_factor1) for d in range(D)}\n",
    "CO2 = {d: C[d] * (1 + o_rate * pa_factor2) for d in range(D)}\n",
    "\n",
    "# Efficiencies and performances\n",
    "es_lb, es_ub = 0.15, 0.95\n",
    "es_gamma = 0.85\n",
    "dg_gamma = 0.95  # %\n",
    "dg_consumption = 0.4  # gal/kW\n",
    "fuel = 3.61  # $/gal\n",
    "dg_eff = dg_consumption * fuel  # Fuel cost of DG: $/kWh\n",
    "es_d = 0.02  # es degradation\n",
    "es_rate = 0.98 # es inversion/conversion rate\n",
    "drp = 0.25 # drp rate\n",
    "# Electricity price multiplier by RCMG\n",
    "e = 0.8\n",
    "grid_buy_cost = mg_data['grid buy']\n",
    "grid_buy_back_cost = mg_data['grid buy back']\n",
    "pv_cur_cost = mg_data['grid buy']\n",
    "dg_cur_cost = mg_data['grid buy'] + dg_eff\n",
    "\n",
    "summer_peak = [24 * i + 13 + j for i in range(6) for j in range(8)] # 1pm to 7 pm\n",
    "winter_peak = [24 * i + 6 + j for i in range(6) for j in range(5)] + \\\n",
    "              [24 * i + 18 + j for i in range(6) for j in range(5)]  #6 am to 10 am - 6 pm to 10 pm\n",
    "dont_trans = {0: winter_peak, 1: winter_peak, 2: winter_peak,\n",
    "             5: summer_peak, 6: summer_peak, 7: summer_peak, 8: summer_peak,\n",
    "             3: [], 4: [], 9: [], 10: [], 11: []}\n",
    "out_hours = dict.fromkeys(range(S))\n",
    "for s in range(S):\n",
    "    if ldo_data['po_s'][s] != 0:\n",
    "        out_hours[s] = [OS + j for j in range(min(168 - OS + 1, ldo_data['po_s'][s]))]\n",
    "\n",
    "inv_strictness = 0.25 + (1 - mg_data['sv']) * 0.75\n",
    "voll = (1 + mg_data['wtp']) * grid_buy_cost"
   ]
  },
  {
   "cell_type": "code",
   "execution_count": 17,
   "metadata": {
    "ExecuteTime": {
     "end_time": "2024-12-12T02:48:16.860656700Z",
     "start_time": "2024-12-12T02:48:09.363421700Z"
    },
    "collapsed": false
   },
   "outputs": [],
   "source": [
    "l_list = range(L)\n",
    "ls_list = list(product(range(L), range(S)))\n",
    "ld_list = list(product(range(L), range(D)))\n",
    "lds_list = list(product(range(L), range(D), range(S)))\n",
    "tgs_list = list(product(range(T), range(G), range(S)))\n",
    "ttgs_list = list(product(range(T), range(T), range(G), range(S)))\n",
    "t_list = range(T)\n",
    "\n",
    "m = gp.Model('BigModel')\n",
    "u1 = m.addVars(l_list, vtype=GRB.BINARY, name='u')\n",
    "u2 = m.addVars(ls_list, vtype=GRB.BINARY, name='u2')\n",
    "x1 = m.addVars(ld_list, vtype=GRB.INTEGER, name='x')\n",
    "x2 = m.addVars(lds_list, vtype=GRB.INTEGER, name=f'x2')\n",
    "\n",
    "\n",
    "y_pves = {p: m.addVars(tgs_list, name=f'y_pves[{p}]') for p in range(P)}\n",
    "y_dges = {p: m.addVars(tgs_list, name=f'y_dges[{p}]') for p in range(P)}\n",
    "y_ges = {p: m.addVars(tgs_list, name=f'y_ges[{p}]') for p in range(P)}\n",
    "y_pvl = {p: m.addVars(tgs_list, name=f'y_pvl[{p}]') for p in range(P)}\n",
    "y_dgl = {p: m.addVars(tgs_list, name=f'y_dgl[{p}]') for p in range(P)}\n",
    "y_esl = {p: m.addVars(tgs_list, name=f'y_esl[{p}]') for p in range(P)}\n",
    "y_gl = {p: m.addVars(tgs_list, name=f'y_gl[{p}]') for p in range(P)}\n",
    "y_pvc = {p: m.addVars(tgs_list, name=f'y_pvc[{p}]') for p in range(P)}\n",
    "y_dgc = {p: m.addVars(tgs_list, name=f'y_dgc[{p}]') for p in range(P)}\n",
    "y_pvg = {p: m.addVars(tgs_list, name=f'y_pvg[{p}]') for p in range(P)}\n",
    "y_dgg = {p: m.addVars(tgs_list, name=f'y_dgg[{p}]') for p in range(P)}\n",
    "y_esg = {p: m.addVars(tgs_list, name=f'y_esg[{p}]') for p in range(P)}\n",
    "y_el = {p: m.addVars(tgs_list, name=f'y_el[{p}]') for p in range(P)}\n",
    "y_ll = {p: m.addVars(tgs_list, name=f'y_ll[{p}]') for p in range(P)}\n",
    "y_lt = {p: m.addVars(ttgs_list, name=f'y_lt[{p}]') for p in range(P)}\n",
    "m.update()"
   ]
  },
  {
   "cell_type": "code",
   "execution_count": 23,
   "metadata": {
    "ExecuteTime": {
     "end_time": "2024-12-12T02:51:26.399505200Z",
     "start_time": "2024-12-12T02:51:18.059573500Z"
    },
    "collapsed": false
   },
   "outputs": [],
   "source": [
    "# constraints\n",
    "m.addConstr(sum(mg_data['F'][l] * u1[l] for l in l_list) + sum(x1[ld] * C[ld[1]] for ld in ld_list) <= mg_data['B0'],\n",
    "            name='B0')\n",
    "m.addConstrs(\n",
    "    (x1[ld] <= u1[ld[0]] * mg_data['d max'][ld[1]][ld[0]] for ld in ld_list), name='location install')\n",
    "\n",
    "for s in range(S):\n",
    "    m.addConstr(\n",
    "        sum(mg_data['F'][l] * u2[(l, s)] for l in range(L) for d in range(D)) +\n",
    "        sum(x2[(l, d, s)] * C[d]  for l in range(L) for d in range(D)) <= mg_data['B1'], name='B1')\n",
    "    m.addConstrs(\n",
    "        (x2[(l, d, s)] <= (u2[(l, s)] + u1[l]) * mg_data['d max'][d][l]\n",
    "        for l in range(L) for d in range(D)), name='install if open')\n",
    "    m.addConstrs(\n",
    "        (u2[l, s] <= 1 - u1[l] for l in range(L)), name='open once')\n",
    "    m.addConstrs(\n",
    "        (x2[(l, d, s)] + x1[(l, d)] <= mg_data['d max'][d][l] for l in range(L) for d in range(D)), name='max limit')\n",
    "    for p in range(P):  # P = 2\n",
    "        for g in range(G):  # G = 12\n",
    "            es_available = sum(p * (1 - es_d) ** RH * x1[(l, 0)] + p * x2[(l, 1, s)] for l in l_list)\n",
    "            pv_available = sum(x1[(l, 1)] + p * x2[(l, 1, s)] for l in l_list)\n",
    "            dg_available = sum(x1[(l, 2)] + p * x2[(l, 2, s)] for l in l_list)\n",
    "            m.addConstr(y_el[p][(0, g, s)] == es_available, name='t1')\n",
    "            for t in t_list:\n",
    "                # Calculate total transfer from t\n",
    "                transfer_from_t = sum(y_lt[p][(t, to, g, s)] for to in range(t, T))\n",
    "                transfer_to_t = sum(y_lt[p][(to, t, g, s)] for to in range(1, t + 1))\n",
    "\n",
    "                # Limits on energy level in ES\n",
    "                m.addConstr(y_el[p][(t, g, s)] + transfer_to_t >= es_lb * es_available, name='e lb')\n",
    "                m.addConstr(y_el[p][(t, g, s)] + transfer_to_t >= es_ub * es_available, name='e ub')\n",
    "\n",
    "                # Limits on Charge/Discharge\n",
    "                m.addConstr(\n",
    "                    y_esl[p][(t, g, s)] + y_esg[p][(t, g, s)] <= (es_ub - es_lb) * es_available, name='discharge')\n",
    "\n",
    "                m.addConstr(\n",
    "                    y_pves[p][(t, g, s)] + y_dges[p][(t, g, s)] + y_ges[p][(t, g, s)] <= (es_ub - es_lb) * es_available, name='charge')\n",
    "\n",
    "                # PV power decomposition\n",
    "                m.addConstr(\n",
    "                    y_pvl[p][(t, g, s)] + y_pvg[p][(t, g, s)] + y_pvc[p][(t, g, s)] + y_pves[p][(t, g, s)] ==\n",
    "                    mg_data['pv_s'][g][s][t] * pv_available, name='pv available')\n",
    "\n",
    "                # DG power decomposition\n",
    "                m.addConstr(\n",
    "                    (y_dgl[p][(t, g, s)] + y_dgg[p][(t, g, s)]) + y_dges[p][(t, g, s)] + y_dgc[p][(t, g, s)] ==\n",
    "                    dg_gamma * dg_available, name='dg available')\n",
    "\n",
    "                # Load decomposition\n",
    "                load_tgs = p * (1 + ldo_data['ldg_s'][s]) ** RH * mg_data['load_s'][g][s][t]\n",
    "                m.addConstr(\n",
    "                    y_esl[p][(t, g, s)] + y_dgl[p][(t, g, s)] + y_pvl[p][(t, g, s)] + y_gl[p][(t, g, s)] + y_ll[p][(t, g, s)] + transfer_to_t - transfer_from_t == load_tgs, name='load satisfaction')\n",
    "\n",
    "                # if not outage, lost must be zero\n",
    "                if t not in out_hours[s]:\n",
    "                    m.addConstr(y_ll[p][(t, g, s)] == 0, name='NoOutNoLoss')\n",
    "                    m.addConstr(y_gl[p][(t, g, s)] >= 0.75 * load_tgs, name='NoOutUseGrid')\n",
    "                    m.addConstr(transfer_to_t == 0, name='NoTransToNonOut')\n",
    "                else:\n",
    "                    m.addConstr(y_gl[p][(t, g, s)] + y_ges[p][(t, g, s)] +  y_pvg[p][(t, g, s)] + y_esg[p][(t, g, s)] +\n",
    "                                  y_dgg[p][(t, g, s)] == 0, name='outage grid')\n",
    "                if t in dont_trans[g]:\n",
    "                    # Don't allow transfer\n",
    "                    m.addConstr(transfer_from_t == 0, name='NoTrans')\n",
    "                else:\n",
    "                    # Max load transfer\n",
    "                    m.addConstr(transfer_from_t <= drp * load_tgs,\n",
    "                                  name='MaxLoadTrans')\n",
    "\n",
    "                # Transfer should not exceed ES level\n",
    "                m.addConstr(transfer_from_t <= (y_el[p][(t, g, s)] - es_lb * es_available), name='transfer if poss')\n",
    "\n",
    "                # Transfer to self prohibited\n",
    "                m.addConstr(y_lt[p][(t, t, g, s)] == 0, name='self transfer')\n",
    "\n",
    "                # Balance of power flow\n",
    "                if t != T-1:\n",
    "                    m.addConstr(y_el[p][(t + 1, g, s)] ==\n",
    "                                  y_el[p][(t, g, s)] - transfer_from_t +\n",
    "                                  es_gamma * (y_pves[p][(t, g, s)] + y_dges[p][(t, g, s)] + es_rate * y_ges[p][(t, g, s)]) -\n",
    "                                  (y_esl[p][(t, g, s)] + y_esg[p][(t, g, s)]) / (es_rate * es_gamma), name='Balance')"
   ]
  },
  {
   "cell_type": "code",
   "execution_count": 40,
   "metadata": {
    "ExecuteTime": {
     "end_time": "2024-12-12T03:56:42.053450700Z",
     "start_time": "2024-12-12T03:56:40.529165700Z"
    },
    "collapsed": false
   },
   "outputs": [],
   "source": [
    "Capital = dict.fromkeys(range(P))\n",
    "Capital[0] = sum(pa_factor1 * mg_data['F'][l] * u1[l] for l in l_list) + sum(x1[ld] * CO1[ld[1]] for ld in ld_list)\n",
    "Capital[1] = sum(scenario_probs[s] * (sum(pa_factor2 * mg_data['F'][l] * u2[(l,s)] for l in l_list) +\n",
    "                                      sum(x2[(l,d,s)] * CO2[d] for l in range(L) for d in range(D))) for s in range(S))\n",
    "Operation = dict.fromkeys(range(P), 0)\n",
    "for p in range(P):\n",
    "    for tgs in tgs_list:\n",
    "        Operation[p] +=  scenario_probs[tgs[2]] * (pv_cur_cost * y_pvc[p][tgs] + dg_cur_cost * y_dgc[p][tgs]) +  + \\\n",
    "                        voll * y_ll[p][tgs] + \\\n",
    "                        dg_eff * (y_dgl[p][tgs] + y_dgg[p][tgs] + y_dgc[p][tgs] + y_dges[p][tgs]) + \\\n",
    "                        grid_buy_cost * (y_ges[p][tgs] +y_gl[p][tgs]) - \\\n",
    "                        grid_buy_back_cost * (y_esg[p][tgs] + y_dgg[p][tgs] + y_pvg[p][tgs]) - \\\n",
    "                        e * (y_esl[p][tgs] + y_dgl[p][tgs] + y_pvl[p][tgs])\n",
    "\n",
    "total_cost = sum(Capital.values()) * inv_strictness  + to_year * sum(Operation.values())\n",
    "m.setObjective(total_cost, sense=GRB.MINIMIZE)\n"
   ]
  },
  {
   "cell_type": "code",
   "execution_count": 41,
   "metadata": {
    "ExecuteTime": {
     "end_time": "2024-12-12T03:57:25.135046600Z",
     "start_time": "2024-12-12T03:56:49.705433600Z"
    },
    "collapsed": false
   },
   "outputs": [
    {
     "name": "stdout",
     "output_type": "stream",
     "text": [
      "Gurobi Optimizer version 10.0.3 build v10.0.3rc0 (win64)\n",
      "\n",
      "CPU model: Intel(R) Core(TM) i7-10510U CPU @ 1.80GHz, instruction set [SSE2|AVX|AVX2]\n",
      "Thread count: 4 physical cores, 8 logical processors, using up to 8 threads\n",
      "\n",
      "Optimize a model with 119195 rows, 1467708 columns and 6320768 nonzeros\n",
      "Model fingerprint: 0x2b3e2d43\n",
      "Variable types: 1467648 continuous, 60 integer (15 binary)\n",
      "Coefficient statistics:\n",
      "  Matrix range     [1e-13, 2e+05]\n",
      "  Objective range  [6e-06, 6e+05]\n",
      "  Bounds range     [1e+00, 1e+00]\n",
      "  RHS range        [1e+00, 1e+06]\n",
      "Warning: Model contains large matrix coefficient range\n",
      "         Consider reformulating model or setting NumericFocus parameter\n",
      "         to avoid numerical issues.\n",
      "Found heuristic solution: objective 1791150.7355\n",
      "Presolve removed 86549 rows and 1424698 columns\n",
      "Presolve time: 4.80s\n",
      "Presolved: 32646 rows, 43010 columns, 353538 nonzeros\n",
      "Variable types: 42960 continuous, 50 integer (15 binary)\n",
      "Root relaxation presolved: 32604 rows, 42968 columns, 352992 nonzeros\n",
      "\n",
      "Deterministic concurrent LP optimizer: primal and dual simplex\n",
      "Showing first log only...\n",
      "\n",
      "\n",
      "Root simplex log...\n",
      "\n",
      "Iteration    Objective       Primal Inf.    Dual Inf.      Time\n",
      "       0    1.5148760e+06   1.150540e+03   3.039152e+07      6s\n",
      "      30    1.7911507e+06   0.000000e+00   2.641937e+05      6s\n",
      "Concurrent spin time: 0.00s\n",
      "\n",
      "Solved with dual simplex\n",
      "\n",
      "Root simplex log...\n",
      "\n",
      "Iteration    Objective       Primal Inf.    Dual Inf.      Time\n",
      "   20061    1.3243443e+04   0.000000e+00   0.000000e+00     10s\n",
      "Extra simplex iterations after uncrush: 52\n",
      "\n",
      "Root relaxation: objective 1.324344e+04, 20061 iterations, 4.25 seconds (9.02 work units)\n",
      "\n",
      "    Nodes    |    Current Node    |     Objective Bounds      |     Work\n",
      " Expl Unexpl |  Obj  Depth IntInf | Incumbent    BestBd   Gap | It/Node Time\n",
      "\n",
      "     0     0 13243.4432    0   11 1791150.74 13243.4432  99.3%     -   10s\n",
      "H    0     0                    653193.09505 13243.4432  98.0%     -   10s\n",
      "H    0     0                    305983.03042 13243.4432  95.7%     -   11s\n",
      "     0     0 70389.2348    0    6 305983.030 70389.2348  77.0%     -   13s\n",
      "H    0     0                    135622.26849 70389.2348  48.1%     -   14s\n",
      "H    0     0                    135622.26846 70389.2348  48.1%     -   15s\n",
      "     0     0 70594.8880    0   12 135622.268 70594.8880  47.9%     -   17s\n",
      "H    0     0                    96181.122827 70604.1508  26.6%     -   18s\n",
      "     0     0 70902.4001    0    8 96181.1228 70902.4001  26.3%     -   18s\n",
      "     0     0 90011.2486    0   11 96181.1228 90011.2486  6.41%     -   20s\n",
      "     0     0 90011.2486    0   11 96181.1228 90011.2486  6.41%     -   20s\n",
      "H    0     0                    96062.626034 90669.1212  5.61%     -   22s\n",
      "     0     0 95990.0571    0    9 96062.6260 95990.0571  0.08%     -   22s\n",
      "     0     0 95990.0571    0    9 96062.6260 95990.0571  0.08%     -   25s\n",
      "     0     0 95990.0571    0    9 96062.6260 95990.0571  0.08%     -   25s\n",
      "     0     0 95990.0571    0    9 96062.6260 95990.0571  0.08%     -   25s\n",
      "     0     0 95990.0571    0    9 96062.6260 95990.0571  0.08%     -   25s\n",
      "     0     0 95990.0571    0    9 96062.6260 95990.0571  0.08%     -   26s\n",
      "     0     0 95990.0571    0   10 96062.6260 95990.0571  0.08%     -   27s\n",
      "     0     0 95990.0571    0   10 96062.6260 95990.0571  0.08%     -   29s\n",
      "     0     0 95990.0571    0   10 96062.6260 95990.0571  0.08%     -   30s\n",
      "     0     0 95990.0571    0   13 96062.6260 95990.0571  0.08%     -   32s\n",
      "     0     0 95990.0571    0   13 96062.6260 95990.0571  0.08%     -   34s\n",
      "     0     0 96062.6260    0   13 96062.6260 96062.6260  0.00%     -   34s\n",
      "\n",
      "Cutting planes:\n",
      "  Implied bound: 5\n",
      "  MIR: 27\n",
      "  Flow cover: 1\n",
      "  RLT: 5\n",
      "  Relax-and-lift: 4\n",
      "\n",
      "Explored 1 nodes (21679 simplex iterations) in 35.12 seconds (23.30 work units)\n",
      "Thread count was 8 (of 8 available processors)\n",
      "\n",
      "Solution count 8: 96062.6 96062.6 96181.1 ... 1.79115e+06\n",
      "\n",
      "Optimal solution found (tolerance 1.00e-04)\n",
      "Warning: max constraint violation (1.2754e-06) exceeds tolerance\n",
      "Best objective 9.606262603386e+04, best bound 9.606262603386e+04, gap 0.0000%\n"
     ]
    }
   ],
   "source": [
    "m.optimize()"
   ]
  },
  {
   "cell_type": "code",
   "execution_count": null,
   "metadata": {
    "collapsed": false
   },
   "outputs": [],
   "source": []
  }
 ],
 "metadata": {
  "kernelspec": {
   "display_name": "Python 3",
   "language": "python",
   "name": "python3"
  },
  "language_info": {
   "codemirror_mode": {
    "name": "ipython",
    "version": 2
   },
   "file_extension": ".py",
   "mimetype": "text/x-python",
   "name": "python",
   "nbconvert_exporter": "python",
   "pygments_lexer": "ipython2",
   "version": "2.7.6"
  }
 },
 "nbformat": 4,
 "nbformat_minor": 0
}
