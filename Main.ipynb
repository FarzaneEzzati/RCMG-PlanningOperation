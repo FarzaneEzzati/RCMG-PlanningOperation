{
 "cells": [
  {
   "cell_type": "code",
   "execution_count": 1,
   "metadata": {
    "collapsed": false,
    "ExecuteTime": {
     "end_time": "2025-04-29T21:22:07.514446Z",
     "start_time": "2025-04-29T21:22:06.671458500Z"
    }
   },
   "outputs": [],
   "source": [
    "import pandas as pd\n",
    "import gurobipy as gp"
   ]
  },
  {
   "cell_type": "code",
   "execution_count": 2,
   "metadata": {
    "collapsed": false,
    "ExecuteTime": {
     "end_time": "2025-04-29T21:22:07.637830400Z",
     "start_time": "2025-04-29T21:22:07.519568400Z"
    }
   },
   "outputs": [
    {
     "name": "stdout",
     "output_type": "stream",
     "text": [
      "Set parameter Username\n",
      "Set parameter LicenseID to value 2625858\n",
      "Academic license - for non-commercial use only - expires 2026-02-20\n",
      "Set parameter Username\n",
      "Set parameter LicenseID to value 2625858\n",
      "Academic license - for non-commercial use only - expires 2026-02-20\n",
      "Set parameter Username\n",
      "Set parameter LicenseID to value 2625858\n",
      "Academic license - for non-commercial use only - expires 2026-02-20\n"
     ]
    }
   ],
   "source": [
    "%load_ext autoreload\n",
    "%autoreload 2\n",
    "%aimport ModelGenerator\n",
    "%aimport Methods"
   ]
  },
  {
   "cell_type": "code",
   "execution_count": 3,
   "metadata": {
    "ExecuteTime": {
     "end_time": "2025-04-29T21:22:07.696727100Z",
     "start_time": "2025-04-29T21:22:07.627429900Z"
    }
   },
   "outputs": [],
   "source": [
    "mg_id = 0"
   ]
  },
  {
   "cell_type": "markdown",
   "metadata": {
    "collapsed": false
   },
   "source": [
    "#### Build Models"
   ]
  },
  {
   "cell_type": "code",
   "execution_count": 6,
   "metadata": {
    "collapsed": false,
    "ExecuteTime": {
     "end_time": "2025-04-29T21:29:18.119092700Z",
     "start_time": "2025-04-29T21:28:47.754448400Z"
    }
   },
   "outputs": [
    {
     "name": "stdout",
     "output_type": "stream",
     "text": [
      "Set parameter Username\n",
      "Set parameter LicenseID to value 2625858\n",
      "Academic license - for non-commercial use only - expires 2026-02-20\n"
     ]
    },
    {
     "name": "stderr",
     "output_type": "stream",
     "text": [
      "  0%|          | 0/27 [00:00<?, ?it/s]"
     ]
    },
    {
     "name": "stdout",
     "output_type": "stream",
     "text": [
      "0\n",
      "hi\n",
      "hi\n",
      "hi\n",
      "hi\n",
      "hi\n",
      "hi\n",
      "hi\n",
      "hi\n",
      "hi\n",
      "hi\n",
      "hi\n",
      "hi\n",
      "hi\n",
      "hi\n",
      "hi\n",
      "hi\n",
      "hi\n",
      "hi\n",
      "hi\n",
      "hi\n",
      "hi\n",
      "hi\n",
      "hi\n",
      "hi\n",
      "hi\n",
      "hi\n",
      "hi\n",
      "hi\n",
      "hi\n",
      "hi\n",
      "hi\n",
      "hi\n",
      "hi\n",
      "hi\n",
      "hi\n",
      "hi\n",
      "hi\n",
      "hi\n",
      "hi\n",
      "hi\n",
      "hi\n",
      "hi\n",
      "hi\n",
      "hi\n",
      "hi\n",
      "hi\n",
      "hi\n",
      "hi\n",
      "hi\n",
      "hi\n",
      "hi\n",
      "hi\n",
      "hi\n",
      "hi\n",
      "hi\n",
      "hi\n",
      "hi\n",
      "hi\n",
      "hi\n",
      "hi\n",
      "hi\n",
      "hi\n",
      "hi\n",
      "hi\n",
      "hi\n",
      "hi\n",
      "hi\n",
      "hi\n",
      "hi\n",
      "hi\n",
      "hi\n",
      "hi\n",
      "hi\n",
      "hi\n",
      "hi\n",
      "hi\n",
      "hi\n",
      "hi\n",
      "hi\n",
      "hi\n",
      "hi\n",
      "hi\n",
      "hi\n",
      "hi\n",
      "hi\n",
      "hi\n",
      "hi\n",
      "hi\n",
      "hi\n",
      "hi\n",
      "hi\n",
      "hi\n",
      "hi\n",
      "hi\n",
      "hi\n",
      "hi\n",
      "hi\n",
      "hi\n",
      "hi\n",
      "hi\n",
      "hi\n",
      "hi\n",
      "hi\n",
      "hi\n",
      "hi\n",
      "hi\n",
      "hi\n",
      "hi\n",
      "hi\n",
      "hi\n",
      "hi\n",
      "hi\n",
      "hi\n",
      "hi\n",
      "hi\n",
      "hi\n",
      "hi\n",
      "hi\n",
      "hi\n",
      "hi\n",
      "hi\n",
      "hi\n",
      "hi\n",
      "hi\n",
      "hi\n",
      "hi\n",
      "hi\n",
      "hi\n",
      "hi\n",
      "hi\n",
      "hi\n",
      "hi\n",
      "hi\n",
      "hi\n",
      "hi\n",
      "hi\n",
      "hi\n",
      "hi\n",
      "hi\n",
      "hi\n",
      "hi\n",
      "hi\n",
      "hi\n",
      "hi\n",
      "hi\n",
      "hi\n",
      "hi\n",
      "hi\n",
      "hi\n",
      "hi\n",
      "hi\n",
      "hi\n",
      "hi\n",
      "hi\n",
      "hi\n",
      "hi\n",
      "hi\n",
      "hi\n",
      "hi\n",
      "hi\n",
      "hi\n",
      "hi\n",
      "hi\n",
      "hi\n",
      "hi\n",
      "hi\n",
      "hi\n",
      "hi\n",
      "hi\n",
      "hi\n",
      "hi\n",
      "hi\n",
      "hi\n",
      "hi\n",
      "hi\n",
      "hi\n",
      "hi\n",
      "hi\n",
      "hi\n",
      "hi\n",
      "hi\n",
      "hi\n",
      "hi\n",
      "hi\n",
      "hi\n",
      "hi\n",
      "hi\n",
      "hi\n",
      "hi\n",
      "hi\n",
      "hi\n",
      "hi\n",
      "hi\n",
      "hi\n",
      "hi\n",
      "hi\n",
      "hi\n",
      "hi\n",
      "hi\n",
      "hi\n",
      "hi\n",
      "hi\n",
      "hi\n",
      "hi\n",
      "hi\n",
      "hi\n",
      "hi\n",
      "hi\n",
      "hi\n",
      "hi\n",
      "hi\n",
      "hi\n",
      "hi\n",
      "hi\n",
      "hi\n",
      "hi\n",
      "hi\n",
      "hi\n",
      "hi\n",
      "hi\n",
      "hi\n",
      "hi\n",
      "hi\n",
      "hi\n",
      "hi\n",
      "hi\n",
      "hi\n",
      "hi\n",
      "hi\n",
      "hi\n",
      "hi\n",
      "hi\n",
      "hi\n",
      "hi\n",
      "hi\n",
      "hi\n",
      "hi\n",
      "hi\n",
      "hi\n",
      "hi\n",
      "hi\n",
      "hi\n",
      "hi\n",
      "hi\n",
      "hi\n",
      "hi\n",
      "hi\n",
      "hi\n",
      "hi\n",
      "hi\n",
      "hi\n",
      "hi\n",
      "hi\n",
      "hi\n",
      "hi\n",
      "hi\n",
      "hi\n",
      "hi\n",
      "hi\n",
      "hi\n",
      "hi\n",
      "hi\n",
      "hi\n",
      "hi\n",
      "hi\n",
      "hi\n",
      "hi\n",
      "hi\n",
      "hi\n",
      "hi\n",
      "hi\n",
      "hi\n",
      "hi\n",
      "hi\n",
      "hi\n",
      "hi\n",
      "hi\n",
      "hi\n",
      "hi\n",
      "hi\n",
      "hi\n",
      "hi\n",
      "hi\n",
      "hi\n",
      "hi\n",
      "hi\n",
      "hi\n",
      "hi\n",
      "hi\n",
      "hi\n",
      "hi\n",
      "hi\n",
      "hi\n",
      "hi\n",
      "hi\n",
      "hi\n",
      "hi\n",
      "hi\n",
      "hi\n",
      "hi\n",
      "hi\n",
      "hi\n",
      "hi\n",
      "hi\n",
      "hi\n",
      "hi\n",
      "hi\n",
      "hi\n",
      "hi\n"
     ]
    },
    {
     "name": "stderr",
     "output_type": "stream",
     "text": [
      "  0%|          | 0/27 [00:30<?, ?it/s]\n"
     ]
    },
    {
     "ename": "KeyboardInterrupt",
     "evalue": "",
     "output_type": "error",
     "traceback": [
      "\u001B[1;31m---------------------------------------------------------------------------\u001B[0m",
      "\u001B[1;31mKeyboardInterrupt\u001B[0m                         Traceback (most recent call last)",
      "Cell \u001B[1;32mIn[6], line 2\u001B[0m\n\u001B[0;32m      1\u001B[0m \u001B[38;5;28;01mfrom\u001B[39;00m \u001B[38;5;21;01mModelGenerator\u001B[39;00m \u001B[38;5;28;01mimport\u001B[39;00m build_models\n\u001B[1;32m----> 2\u001B[0m master, subproblems, TMatrices, rVectors, Pr, Loads \u001B[38;5;241m=\u001B[39m \u001B[43mbuild_models\u001B[49m\u001B[43m(\u001B[49m\u001B[43mmg_id\u001B[49m\u001B[38;5;241;43m=\u001B[39;49m\u001B[38;5;241;43m0\u001B[39;49m\u001B[43m)\u001B[49m\n",
      "File \u001B[1;32m~\\PycharmProjects\\DOE2\\ModelGenerator.py:183\u001B[0m, in \u001B[0;36mbuild_models\u001B[1;34m(mg_id)\u001B[0m\n\u001B[0;32m    179\u001B[0m sub\u001B[38;5;241m.\u001B[39maddConstr(Y_E[i, g, t] \u001B[38;5;241m+\u001B[39m trans_to_t \u001B[38;5;241m>\u001B[39m\u001B[38;5;241m=\u001B[39m es_soc_lb \u001B[38;5;241m*\u001B[39m available_es,\n\u001B[0;32m    180\u001B[0m     name\u001B[38;5;241m=\u001B[39m\u001B[38;5;124m'\u001B[39m\u001B[38;5;124mE_LB\u001B[39m\u001B[38;5;124m'\u001B[39m)\n\u001B[0;32m    181\u001B[0m sub\u001B[38;5;241m.\u001B[39maddConstr(Y_E[i, g, t] \u001B[38;5;241m+\u001B[39m trans_to_t \u001B[38;5;241m<\u001B[39m\u001B[38;5;241m=\u001B[39m es_soc_ub \u001B[38;5;241m*\u001B[39m available_es,\n\u001B[0;32m    182\u001B[0m     name\u001B[38;5;241m=\u001B[39m\u001B[38;5;124m'\u001B[39m\u001B[38;5;124mE_UB\u001B[39m\u001B[38;5;124m'\u001B[39m)\n\u001B[1;32m--> 183\u001B[0m sub\u001B[38;5;241m.\u001B[39maddConstr(\u001B[43mY_PVES\u001B[49m\u001B[43m \u001B[49m\u001B[38;5;241;43m+\u001B[39;49m\u001B[43m \u001B[49m\u001B[43mY_DGES\u001B[49m\u001B[43m \u001B[49m\u001B[38;5;241;43m+\u001B[39;49m\u001B[43m \u001B[49m\u001B[43mY_GridES\u001B[49m \u001B[38;5;241m<\u001B[39m\u001B[38;5;241m=\u001B[39m (es_soc_ub \u001B[38;5;241m-\u001B[39m es_soc_lb) \u001B[38;5;241m*\u001B[39m available_es,\n\u001B[0;32m    184\u001B[0m     name\u001B[38;5;241m=\u001B[39m\u001B[38;5;124m'\u001B[39m\u001B[38;5;124mES_Charge\u001B[39m\u001B[38;5;124m'\u001B[39m)\n\u001B[0;32m    185\u001B[0m \u001B[38;5;28mprint\u001B[39m(\u001B[38;5;124m'\u001B[39m\u001B[38;5;124mhi\u001B[39m\u001B[38;5;124m'\u001B[39m)\n\u001B[0;32m    186\u001B[0m sub\u001B[38;5;241m.\u001B[39maddConstr(Y_PVL[i, g, t] \u001B[38;5;241m+\u001B[39m Y_PVGrid[i, g, t] \u001B[38;5;241m+\u001B[39m Y_PVCur[i, g, t] \u001B[38;5;241m+\u001B[39m Y_PVES[i, g, t] \u001B[38;5;241m<\u001B[39m\u001B[38;5;241m=\u001B[39m\n\u001B[0;32m    187\u001B[0m     PV \u001B[38;5;241m*\u001B[39m \u001B[38;5;28msum\u001B[39m(X_I[l, \u001B[38;5;241m1\u001B[39m] \u001B[38;5;241m+\u001B[39m i \u001B[38;5;241m*\u001B[39m X_E[l, \u001B[38;5;241m1\u001B[39m] \u001B[38;5;28;01mfor\u001B[39;00m l \u001B[38;5;129;01min\u001B[39;00m l_index),\n\u001B[0;32m    188\u001B[0m     name\u001B[38;5;241m=\u001B[39m\u001B[38;5;124m'\u001B[39m\u001B[38;5;124mPV\u001B[39m\u001B[38;5;124m'\u001B[39m)\n",
      "File \u001B[1;32msrc\\gurobipy\\mlinexpr.pxi:927\u001B[0m, in \u001B[0;36mgurobipy.MLinExpr.__add__\u001B[1;34m()\u001B[0m\n",
      "File \u001B[1;32msrc\\gurobipy\\mlinexpr.pxi:521\u001B[0m, in \u001B[0;36mgurobipy.MLinExpr._from_mvar\u001B[1;34m()\u001B[0m\n",
      "File \u001B[1;32msrc\\gurobipy\\mlinexpr.pxi:578\u001B[0m, in \u001B[0;36mgurobipy.MLinExpr._from_mvar_full\u001B[1;34m()\u001B[0m\n",
      "File \u001B[1;32msrc\\gurobipy\\mlinexpr.pxi:36\u001B[0m, in \u001B[0;36mgurobipy.MLinExpr.__init__\u001B[1;34m()\u001B[0m\n",
      "File \u001B[1;32m<frozen importlib._bootstrap>:1064\u001B[0m, in \u001B[0;36m_handle_fromlist\u001B[1;34m(module, fromlist, import_, recursive)\u001B[0m\n",
      "\u001B[1;31mKeyboardInterrupt\u001B[0m: "
     ]
    }
   ],
   "source": [
    "from ModelGenerator import build_models\n",
    "master, subproblems, TMatrices, rVectors, Pr, Loads = build_models(mg_id=0)"
   ]
  },
  {
   "cell_type": "markdown",
   "metadata": {
    "collapsed": false
   },
   "source": [
    "#### Load Subproblems"
   ]
  },
  {
   "cell_type": "code",
   "execution_count": 4,
   "metadata": {
    "ExecuteTime": {
     "end_time": "2025-04-16T20:44:49.066905Z",
     "start_time": "2025-04-16T20:44:36.801645900Z"
    },
    "collapsed": false
   },
   "outputs": [
    {
     "name": "stdout",
     "output_type": "stream",
     "text": [
      "Loading Subproblems\n"
     ]
    },
    {
     "name": "stderr",
     "output_type": "stream",
     "text": [
      "Loading: 100%|██████████| 27/27 [00:08<00:00,  3.26it/s]\n"
     ]
    }
   ],
   "source": [
    "from Methods import LoadSubProblems\n",
    "models, probs, TMatrices, rVectors = LoadSubProblems()"
   ]
  },
  {
   "cell_type": "markdown",
   "metadata": {
    "collapsed": false
   },
   "source": [
    "#### Solve by Callback"
   ]
  },
  {
   "cell_type": "code",
   "execution_count": 8,
   "metadata": {
    "ExecuteTime": {
     "end_time": "2025-04-16T20:58:17.082174500Z",
     "start_time": "2025-04-16T20:57:03.259406300Z"
    },
    "collapsed": false
   },
   "outputs": [
    {
     "name": "stdout",
     "output_type": "stream",
     "text": [
      "[ 0.  0.  0. ... -0. -0. -0.]\n",
      "cut added\n",
      "[0 0 0 0 0 0 0 0 0 0 0 0 0 0 0] 0.0\n",
      "[ 0.  0.  0. ... -0. -0. -0.]\n",
      "cut added\n",
      "[0 0 0 0 0 0 0 0 0 0 0 0 0 0 0] 0.0\n",
      "[ 0.  0.  0. ... -0. -0. -0.]\n",
      "cut added\n",
      "[0 0 0 0 0 0 0 0 0 0 0 0 0 0 0] 0.0\n",
      "[ 0.  0.  0. ... -0. -0. -0.]\n",
      "cut added\n",
      "[0 0 0 0 0 0 0 0 0 0 0 0 0 0 0] 0.0\n",
      "[ 0.  0.  0. ... -0. -0. -0.]\n",
      "cut added\n",
      "[0 0 0 0 0 0 0 0 0 0 0 0 0 0 0] 0.0\n",
      "[ 0.  0.  0. ... -0. -0. -0.]\n",
      "cut added\n",
      "[0 0 0 0 0 0 0 0 0 0 0 0 0 0 0] 0.0\n"
     ]
    }
   ],
   "source": [
    "from Methods import solve_with_BD_BandB\n",
    "s = 2\n",
    "optimal_x, optimal_obj, x_keys, num_locations = solve_with_BD_BandB(models=models[:2], \n",
    "                                                                    probs=probs[:2], \n",
    "                                                                    TMatrices=TMatrices[:2], \n",
    "                                                                    rVectors=rVectors[:2])\n",
    "optimal_x_reshaped = optimal_x.reshape(num_locations, 4)"
   ]
  },
  {
   "cell_type": "code",
   "execution_count": 10,
   "metadata": {},
   "outputs": [],
   "source": [
    "import numpy as np\n",
    "x_test = np.array([20, 30, 0, 0, 0, 0, 0, 0, 0, 10, 30 ,20, 0, 0, 0, 1, 0, 0, 1, 0])"
   ]
  },
  {
   "cell_type": "markdown",
   "metadata": {
    "collapsed": false
   },
   "source": [
    "### Reporting"
   ]
  },
  {
   "cell_type": "code",
   "execution_count": 11,
   "metadata": {
    "collapsed": false
   },
   "outputs": [],
   "source": [
    "from Methods import solve_subproblems\n",
    "x_u_I, x_u_E = solve_subproblems(sub_models=models, \n",
    "                                 optimal_x=x_test, \n",
    "                                 x_keys=x_keys, \n",
    "                                 probs=probs, \n",
    "                                 num_locations=num_locations,\n",
    "                                 mg_id=mg_id)"
   ]
  },
  {
   "cell_type": "code",
   "execution_count": 63,
   "metadata": {
    "collapsed": false
   },
   "outputs": [
    {
     "data": {
      "text/plain": [
       "array([-0., -0., -0., -0., -0., -0., -0., -0., -0., -0., -0., -0., -0.,\n",
       "       -0., -0., -0., -0., -0., -0., -0.])"
      ]
     },
     "execution_count": 63,
     "metadata": {},
     "output_type": "execute_result"
    }
   ],
   "source": [
    "optimal_x"
   ]
  }
 ],
 "metadata": {
  "kernelspec": {
   "display_name": "Python 3",
   "language": "python",
   "name": "python3"
  },
  "language_info": {
   "codemirror_mode": {
    "name": "ipython",
    "version": 3
   },
   "file_extension": ".py",
   "mimetype": "text/x-python",
   "name": "python",
   "nbconvert_exporter": "python",
   "pygments_lexer": "ipython3",
   "version": "3.11.5"
  }
 },
 "nbformat": 4,
 "nbformat_minor": 0
}
