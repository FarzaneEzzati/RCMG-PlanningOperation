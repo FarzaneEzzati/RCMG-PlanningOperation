{
 "cells": [
  {
   "cell_type": "code",
   "execution_count": 1,
   "outputs": [],
   "source": [
    "import pandas as pd\n",
    "import gurobipy as gp"
   ],
   "metadata": {
    "collapsed": false,
    "ExecuteTime": {
     "end_time": "2025-04-16T19:39:37.567230800Z",
     "start_time": "2025-04-16T19:39:36.867525900Z"
    }
   }
  },
  {
   "cell_type": "code",
   "execution_count": 2,
   "outputs": [
    {
     "name": "stdout",
     "output_type": "stream",
     "text": [
      "Set parameter Username\n",
      "Set parameter LicenseID to value 2625858\n",
      "Academic license - for non-commercial use only - expires 2026-02-20\n",
      "Set parameter Username\n",
      "Set parameter LicenseID to value 2625858\n",
      "Academic license - for non-commercial use only - expires 2026-02-20\n",
      "Set parameter Username\n",
      "Set parameter LicenseID to value 2625858\n",
      "Academic license - for non-commercial use only - expires 2026-02-20\n"
     ]
    }
   ],
   "source": [
    "%load_ext autoreload\n",
    "%autoreload 2\n",
    "%aimport ModelGenerator\n",
    "%aimport Methods"
   ],
   "metadata": {
    "collapsed": false,
    "ExecuteTime": {
     "end_time": "2025-04-16T19:39:38.567996600Z",
     "start_time": "2025-04-16T19:39:38.464227600Z"
    }
   }
  },
  {
   "cell_type": "markdown",
   "source": [
    "#### Build Models"
   ],
   "metadata": {
    "collapsed": false
   }
  },
  {
   "cell_type": "code",
   "execution_count": 21,
   "outputs": [
    {
     "name": "stdout",
     "output_type": "stream",
     "text": [
      "Set parameter Username\n",
      "Set parameter LicenseID to value 2625858\n",
      "Academic license - for non-commercial use only - expires 2026-02-20\n"
     ]
    },
    {
     "name": "stderr",
     "output_type": "stream",
     "text": [
      "100%|██████████| 27/27 [05:30<00:00, 12.23s/it]"
     ]
    },
    {
     "name": "stdout",
     "output_type": "stream",
     "text": [
      "svmem(total=16928931840, available=5947781120, percent=64.9, used=10981150720, free=5947781120)\n",
      "Used: 64.9% | Available: 5.95 GB\n"
     ]
    },
    {
     "name": "stderr",
     "output_type": "stream",
     "text": [
      "\n"
     ]
    }
   ],
   "source": [
    "from ModelGenerator import build_model\n",
    "build_model(mg_id=0)"
   ],
   "metadata": {
    "collapsed": false,
    "ExecuteTime": {
     "end_time": "2025-04-16T18:53:13.981288700Z",
     "start_time": "2025-04-16T18:47:42.968529200Z"
    }
   }
  },
  {
   "cell_type": "markdown",
   "source": [
    "#### Load Subproblems"
   ],
   "metadata": {
    "collapsed": false
   }
  },
  {
   "cell_type": "code",
   "execution_count": 13,
   "outputs": [
    {
     "name": "stdout",
     "output_type": "stream",
     "text": [
      "Set parameter Username\n",
      "Set parameter LicenseID to value 2625858\n",
      "Academic license - for non-commercial use only - expires 2026-02-20\n",
      "Set parameter Username\n",
      "Set parameter LicenseID to value 2625858\n",
      "Academic license - for non-commercial use only - expires 2026-02-20\n",
      "Loading Subproblems\n"
     ]
    },
    {
     "name": "stderr",
     "output_type": "stream",
     "text": [
      "Loading: 100%|██████████| 27/27 [00:12<00:00,  2.22it/s]\n"
     ]
    }
   ],
   "source": [
    "from Methods import LoadSubProblems\n",
    "models, probs, TMatrices, rVectors, x_keys = LoadSubProblems()"
   ],
   "metadata": {
    "collapsed": false,
    "ExecuteTime": {
     "end_time": "2025-04-16T20:44:49.066905Z",
     "start_time": "2025-04-16T20:44:36.801645900Z"
    }
   }
  },
  {
   "cell_type": "markdown",
   "source": [
    "#### Solve by Callback"
   ],
   "metadata": {
    "collapsed": false
   }
  },
  {
   "cell_type": "code",
   "execution_count": 35,
   "outputs": [
    {
     "name": "stdout",
     "output_type": "stream",
     "text": [
      "Read MPS format model from file Models/Master.mps\n",
      "Reading time = 0.00 seconds\n",
      "MasterProb: 2 rows, 21 columns, 40 nonzeros\n",
      "Set parameter LazyConstraints to value 1\n",
      "Set parameter LogFile to value \"master_log.log\"\n",
      "Set parameter DegenMoves to value 0\n",
      "Gurobi Optimizer version 10.0.3 build v10.0.3rc0 (win64)\n",
      "\n",
      "CPU model: Intel(R) Core(TM) i7-10510U CPU @ 1.80GHz, instruction set [SSE2|AVX|AVX2]\n",
      "Thread count: 4 physical cores, 8 logical processors, using up to 8 threads\n",
      "\n",
      "Optimize a model with 2 rows, 21 columns and 40 nonzeros\n",
      "Model fingerprint: 0x6b5be69d\n",
      "Variable types: 1 continuous, 20 integer (5 binary)\n",
      "Coefficient statistics:\n",
      "  Matrix range     [1e+02, 4e+04]\n",
      "  Objective range  [1e+00, 4e+04]\n",
      "  Bounds range     [1e+00, 1e+04]\n",
      "  RHS range        [2e+04, 5e+05]\n"
     ]
    },
    {
     "ename": "MemoryError",
     "evalue": "Unable to allocate 81.0 KiB for an array with shape (20724,) and data type int32",
     "output_type": "error",
     "traceback": [
      "\u001B[1;31m---------------------------------------------------------------------------\u001B[0m",
      "\u001B[1;31mMemoryError\u001B[0m                               Traceback (most recent call last)",
      "File \u001B[1;32msrc\\gurobipy\\callback.pxi:209\u001B[0m, in \u001B[0;36mgurobipy.CallbackClass.callback\u001B[1;34m()\u001B[0m\n",
      "File \u001B[1;32m~\\PycharmProjects\\DOE2\\Methods.py:104\u001B[0m, in \u001B[0;36mBD_BandB.<locals>.<lambda>\u001B[1;34m(model, where)\u001B[0m\n\u001B[0;32m    102\u001B[0m master\u001B[38;5;241m.\u001B[39mParams\u001B[38;5;241m.\u001B[39mLogFile \u001B[38;5;241m=\u001B[39m \u001B[38;5;124m\"\u001B[39m\u001B[38;5;124mmaster_log.log\u001B[39m\u001B[38;5;124m\"\u001B[39m\n\u001B[0;32m    103\u001B[0m master\u001B[38;5;241m.\u001B[39mParams\u001B[38;5;241m.\u001B[39mDegenMoves \u001B[38;5;241m=\u001B[39m \u001B[38;5;241m0\u001B[39m\n\u001B[1;32m--> 104\u001B[0m master\u001B[38;5;241m.\u001B[39moptimize(\u001B[38;5;28;01mlambda\u001B[39;00m model, where: \u001B[43mBendersCut\u001B[49m\u001B[43m(\u001B[49m\u001B[43mmodel\u001B[49m\u001B[43m,\u001B[49m\u001B[43m \u001B[49m\u001B[43mwhere\u001B[49m\u001B[43m,\u001B[49m\u001B[43m \u001B[49m\u001B[43mmodels\u001B[49m\u001B[43m,\u001B[49m\u001B[43m \u001B[49m\u001B[43mprobs\u001B[49m\u001B[43m,\u001B[49m\u001B[43m \u001B[49m\u001B[43mTMatrices\u001B[49m\u001B[43m,\u001B[49m\u001B[43m \u001B[49m\u001B[43mrVectors\u001B[49m\u001B[43m,\u001B[49m\u001B[43m \u001B[49m\u001B[43mx_keys\u001B[49m\u001B[43m)\u001B[49m)\n\u001B[0;32m    106\u001B[0m \u001B[38;5;66;03m##### Get optimal x\u001B[39;00m\n\u001B[0;32m    107\u001B[0m X_values \u001B[38;5;241m=\u001B[39m [x\u001B[38;5;241m.\u001B[39mx \u001B[38;5;28;01mfor\u001B[39;00m x \u001B[38;5;129;01min\u001B[39;00m master\u001B[38;5;241m.\u001B[39mgetVars()] \u001B[38;5;66;03m# Save optimal solution of master problem\u001B[39;00m\n",
      "File \u001B[1;32m~\\PycharmProjects\\DOE2\\Methods.py:90\u001B[0m, in \u001B[0;36mBendersCut\u001B[1;34m(model, where, models, probs, TMatrices, rVectors, x_keys)\u001B[0m\n\u001B[0;32m     88\u001B[0m X \u001B[38;5;241m=\u001B[39m model\u001B[38;5;241m.\u001B[39mcbGetSolution(model\u001B[38;5;241m.\u001B[39m_vars)\n\u001B[0;32m     89\u001B[0m \u001B[38;5;66;03m# Get solutions in subproblems, calculate e and E\u001B[39;00m\n\u001B[1;32m---> 90\u001B[0m E, e \u001B[38;5;241m=\u001B[39m \u001B[43mGetPIs\u001B[49m\u001B[43m(\u001B[49m\u001B[43moptimal_x\u001B[49m\u001B[38;5;241;43m=\u001B[39;49m\u001B[43mX\u001B[49m\u001B[43m,\u001B[49m\u001B[43m \u001B[49m\u001B[43mmodels\u001B[49m\u001B[38;5;241;43m=\u001B[39;49m\u001B[43mmodels\u001B[49m\u001B[43m,\u001B[49m\u001B[43m \u001B[49m\u001B[43mprobs\u001B[49m\u001B[38;5;241;43m=\u001B[39;49m\u001B[43mprobs\u001B[49m\u001B[43m,\u001B[49m\n\u001B[0;32m     91\u001B[0m \u001B[43m                  \u001B[49m\u001B[43mTMatrices\u001B[49m\u001B[38;5;241;43m=\u001B[39;49m\u001B[43mTMatrices\u001B[49m\u001B[43m,\u001B[49m\u001B[43m \u001B[49m\u001B[43mrVectors\u001B[49m\u001B[38;5;241;43m=\u001B[39;49m\u001B[43mrVectors\u001B[49m\u001B[43m,\u001B[49m\n\u001B[0;32m     92\u001B[0m \u001B[43m                  \u001B[49m\u001B[43mx_keys\u001B[49m\u001B[38;5;241;43m=\u001B[39;49m\u001B[43mx_keys\u001B[49m\u001B[43m)\u001B[49m\n\u001B[0;32m     93\u001B[0m \u001B[38;5;66;03m# Add a cut based on the solution # For example, adding a simple cut:\u001B[39;00m\n\u001B[0;32m     94\u001B[0m model\u001B[38;5;241m.\u001B[39mcbLazy(model\u001B[38;5;241m.\u001B[39m_vars[\u001B[38;5;241m-\u001B[39m\u001B[38;5;241m1\u001B[39m] \u001B[38;5;241m+\u001B[39m \u001B[38;5;28msum\u001B[39m(model\u001B[38;5;241m.\u001B[39m_vars[x] \u001B[38;5;241m*\u001B[39m E_x \u001B[38;5;28;01mfor\u001B[39;00m E_x \u001B[38;5;129;01min\u001B[39;00m E) \u001B[38;5;241m>\u001B[39m\u001B[38;5;241m=\u001B[39m e)\n",
      "File \u001B[1;32m~\\PycharmProjects\\DOE2\\Methods.py:81\u001B[0m, in \u001B[0;36mGetPIs\u001B[1;34m(optimal_x, models, probs, TMatrices, rVectors, x_keys)\u001B[0m\n\u001B[0;32m     79\u001B[0m \u001B[38;5;28;01mfor\u001B[39;00m x_key \u001B[38;5;129;01min\u001B[39;00m x_keys:\n\u001B[0;32m     80\u001B[0m     Temp1 \u001B[38;5;241m=\u001B[39m np\u001B[38;5;241m.\u001B[39marray([np\u001B[38;5;241m.\u001B[39mdot(TMatrices[s][:, x_key], duals[s]) \u001B[38;5;28;01mfor\u001B[39;00m s \u001B[38;5;129;01min\u001B[39;00m s_range]) \u001B[38;5;66;03m# [S, C]\u001B[39;00m\n\u001B[1;32m---> 81\u001B[0m     E\u001B[38;5;241m.\u001B[39mappend(\u001B[43mnp\u001B[49m\u001B[38;5;241;43m.\u001B[39;49m\u001B[43maverage\u001B[49m\u001B[43m(\u001B[49m\u001B[43mTemp1\u001B[49m\u001B[43m,\u001B[49m\u001B[43m \u001B[49m\u001B[43mweights\u001B[49m\u001B[38;5;241;43m=\u001B[39;49m\u001B[43mprobs\u001B[49m\u001B[43m)\u001B[49m)\n\u001B[0;32m     82\u001B[0m \u001B[38;5;28;01mreturn\u001B[39;00m E, e\n",
      "File \u001B[1;32m<__array_function__ internals>:180\u001B[0m, in \u001B[0;36maverage\u001B[1;34m(*args, **kwargs)\u001B[0m\n",
      "File \u001B[1;32m~\\AppData\\Local\\Programs\\Python\\Python310\\lib\\site-packages\\numpy\\lib\\function_base.py:550\u001B[0m, in \u001B[0;36maverage\u001B[1;34m(a, axis, weights, returned, keepdims)\u001B[0m\n\u001B[0;32m    546\u001B[0m     \u001B[38;5;28;01mif\u001B[39;00m np\u001B[38;5;241m.\u001B[39many(scl \u001B[38;5;241m==\u001B[39m \u001B[38;5;241m0.0\u001B[39m):\n\u001B[0;32m    547\u001B[0m         \u001B[38;5;28;01mraise\u001B[39;00m \u001B[38;5;167;01mZeroDivisionError\u001B[39;00m(\n\u001B[0;32m    548\u001B[0m             \u001B[38;5;124m\"\u001B[39m\u001B[38;5;124mWeights sum to zero, can\u001B[39m\u001B[38;5;124m'\u001B[39m\u001B[38;5;124mt be normalized\u001B[39m\u001B[38;5;124m\"\u001B[39m)\n\u001B[1;32m--> 550\u001B[0m     avg \u001B[38;5;241m=\u001B[39m \u001B[43mnp\u001B[49m\u001B[38;5;241;43m.\u001B[39;49m\u001B[43mmultiply\u001B[49m\u001B[43m(\u001B[49m\u001B[43ma\u001B[49m\u001B[43m,\u001B[49m\u001B[43m \u001B[49m\u001B[43mwgt\u001B[49m\u001B[43m,\u001B[49m\n\u001B[0;32m    551\u001B[0m \u001B[43m                      \u001B[49m\u001B[43mdtype\u001B[49m\u001B[38;5;241;43m=\u001B[39;49m\u001B[43mresult_dtype\u001B[49m\u001B[43m)\u001B[49m\u001B[38;5;241m.\u001B[39msum(axis, \u001B[38;5;241m*\u001B[39m\u001B[38;5;241m*\u001B[39mkeepdims_kw) \u001B[38;5;241m/\u001B[39m scl\n\u001B[0;32m    553\u001B[0m \u001B[38;5;28;01mif\u001B[39;00m returned:\n\u001B[0;32m    554\u001B[0m     \u001B[38;5;28;01mif\u001B[39;00m scl\u001B[38;5;241m.\u001B[39mshape \u001B[38;5;241m!=\u001B[39m avg\u001B[38;5;241m.\u001B[39mshape:\n",
      "File \u001B[1;32m~\\AppData\\Local\\Programs\\Python\\Python310\\lib\\site-packages\\scipy\\sparse\\_base.py:590\u001B[0m, in \u001B[0;36mspmatrix.__mul__\u001B[1;34m(self, other)\u001B[0m\n\u001B[0;32m    589\u001B[0m \u001B[38;5;28;01mdef\u001B[39;00m \u001B[38;5;21m__mul__\u001B[39m(\u001B[38;5;28mself\u001B[39m, other):\n\u001B[1;32m--> 590\u001B[0m     \u001B[38;5;28;01mreturn\u001B[39;00m \u001B[38;5;28;43mself\u001B[39;49m\u001B[38;5;241;43m.\u001B[39;49m\u001B[43m_mul_dispatch\u001B[49m\u001B[43m(\u001B[49m\u001B[43mother\u001B[49m\u001B[43m)\u001B[49m\n",
      "File \u001B[1;32m~\\AppData\\Local\\Programs\\Python\\Python310\\lib\\site-packages\\scipy\\sparse\\_base.py:536\u001B[0m, in \u001B[0;36mspmatrix._mul_dispatch\u001B[1;34m(self, other)\u001B[0m\n\u001B[0;32m    532\u001B[0m         \u001B[38;5;28;01mreturn\u001B[39;00m \u001B[38;5;28mself\u001B[39m\u001B[38;5;241m.\u001B[39m_mul_multivector(other)\n\u001B[0;32m    534\u001B[0m \u001B[38;5;28;01mif\u001B[39;00m isscalarlike(other):\n\u001B[0;32m    535\u001B[0m     \u001B[38;5;66;03m# scalar value\u001B[39;00m\n\u001B[1;32m--> 536\u001B[0m     \u001B[38;5;28;01mreturn\u001B[39;00m \u001B[38;5;28;43mself\u001B[39;49m\u001B[38;5;241;43m.\u001B[39;49m\u001B[43m_mul_scalar\u001B[49m\u001B[43m(\u001B[49m\u001B[43mother\u001B[49m\u001B[43m)\u001B[49m\n\u001B[0;32m    538\u001B[0m \u001B[38;5;28;01mif\u001B[39;00m issparse(other):\n\u001B[0;32m    539\u001B[0m     \u001B[38;5;28;01mif\u001B[39;00m \u001B[38;5;28mself\u001B[39m\u001B[38;5;241m.\u001B[39mshape[\u001B[38;5;241m1\u001B[39m] \u001B[38;5;241m!=\u001B[39m other\u001B[38;5;241m.\u001B[39mshape[\u001B[38;5;241m0\u001B[39m]:\n",
      "File \u001B[1;32m~\\AppData\\Local\\Programs\\Python\\Python310\\lib\\site-packages\\scipy\\sparse\\_data.py:124\u001B[0m, in \u001B[0;36m_data_matrix._mul_scalar\u001B[1;34m(self, other)\u001B[0m\n\u001B[0;32m    123\u001B[0m \u001B[38;5;28;01mdef\u001B[39;00m \u001B[38;5;21m_mul_scalar\u001B[39m(\u001B[38;5;28mself\u001B[39m, other):\n\u001B[1;32m--> 124\u001B[0m     \u001B[38;5;28;01mreturn\u001B[39;00m \u001B[38;5;28;43mself\u001B[39;49m\u001B[38;5;241;43m.\u001B[39;49m\u001B[43m_with_data\u001B[49m\u001B[43m(\u001B[49m\u001B[38;5;28;43mself\u001B[39;49m\u001B[38;5;241;43m.\u001B[39;49m\u001B[43mdata\u001B[49m\u001B[43m \u001B[49m\u001B[38;5;241;43m*\u001B[39;49m\u001B[43m \u001B[49m\u001B[43mother\u001B[49m\u001B[43m)\u001B[49m\n",
      "File \u001B[1;32m~\\AppData\\Local\\Programs\\Python\\Python310\\lib\\site-packages\\scipy\\sparse\\_compressed.py:1231\u001B[0m, in \u001B[0;36m_cs_matrix._with_data\u001B[1;34m(self, data, copy)\u001B[0m\n\u001B[0;32m   1225\u001B[0m \u001B[38;5;250m\u001B[39m\u001B[38;5;124;03m\"\"\"Returns a matrix with the same sparsity structure as self,\u001B[39;00m\n\u001B[0;32m   1226\u001B[0m \u001B[38;5;124;03mbut with different data.  By default the structure arrays\u001B[39;00m\n\u001B[0;32m   1227\u001B[0m \u001B[38;5;124;03m(i.e. .indptr and .indices) are copied.\u001B[39;00m\n\u001B[0;32m   1228\u001B[0m \u001B[38;5;124;03m\"\"\"\u001B[39;00m\n\u001B[0;32m   1229\u001B[0m \u001B[38;5;28;01mif\u001B[39;00m copy:\n\u001B[0;32m   1230\u001B[0m     \u001B[38;5;28;01mreturn\u001B[39;00m \u001B[38;5;28mself\u001B[39m\u001B[38;5;241m.\u001B[39m\u001B[38;5;18m__class__\u001B[39m((data, \u001B[38;5;28mself\u001B[39m\u001B[38;5;241m.\u001B[39mindices\u001B[38;5;241m.\u001B[39mcopy(),\n\u001B[1;32m-> 1231\u001B[0m                            \u001B[38;5;28;43mself\u001B[39;49m\u001B[38;5;241;43m.\u001B[39;49m\u001B[43mindptr\u001B[49m\u001B[38;5;241;43m.\u001B[39;49m\u001B[43mcopy\u001B[49m\u001B[43m(\u001B[49m\u001B[43m)\u001B[49m),\n\u001B[0;32m   1232\u001B[0m                           shape\u001B[38;5;241m=\u001B[39m\u001B[38;5;28mself\u001B[39m\u001B[38;5;241m.\u001B[39mshape,\n\u001B[0;32m   1233\u001B[0m                           dtype\u001B[38;5;241m=\u001B[39mdata\u001B[38;5;241m.\u001B[39mdtype)\n\u001B[0;32m   1234\u001B[0m \u001B[38;5;28;01melse\u001B[39;00m:\n\u001B[0;32m   1235\u001B[0m     \u001B[38;5;28;01mreturn\u001B[39;00m \u001B[38;5;28mself\u001B[39m\u001B[38;5;241m.\u001B[39m\u001B[38;5;18m__class__\u001B[39m((data, \u001B[38;5;28mself\u001B[39m\u001B[38;5;241m.\u001B[39mindices, \u001B[38;5;28mself\u001B[39m\u001B[38;5;241m.\u001B[39mindptr),\n\u001B[0;32m   1236\u001B[0m                           shape\u001B[38;5;241m=\u001B[39m\u001B[38;5;28mself\u001B[39m\u001B[38;5;241m.\u001B[39mshape, dtype\u001B[38;5;241m=\u001B[39mdata\u001B[38;5;241m.\u001B[39mdtype)\n",
      "\u001B[1;31mMemoryError\u001B[0m: Unable to allocate 81.0 KiB for an array with shape (20724,) and data type int32"
     ]
    },
    {
     "name": "stderr",
     "output_type": "stream",
     "text": [
      "Exception ignored in: 'gurobipy.callbackstub'\n",
      "Traceback (most recent call last):\n",
      "  File \"src\\gurobipy\\callback.pxi\", line 209, in gurobipy.CallbackClass.callback\n",
      "  File \"C:\\Users\\Feri\\PycharmProjects\\DOE2\\Methods.py\", line 104, in <lambda>\n",
      "    master.optimize(lambda model, where: BendersCut(model, where, models, probs, TMatrices, rVectors, x_keys))\n",
      "  File \"C:\\Users\\Feri\\PycharmProjects\\DOE2\\Methods.py\", line 90, in BendersCut\n",
      "    E, e = GetPIs(optimal_x=X, models=models, probs=probs,\n",
      "  File \"C:\\Users\\Feri\\PycharmProjects\\DOE2\\Methods.py\", line 81, in GetPIs\n",
      "    E.append(np.average(Temp1, weights=probs))\n",
      "  File \"<__array_function__ internals>\", line 180, in average\n",
      "  File \"C:\\Users\\Feri\\AppData\\Local\\Programs\\Python\\Python310\\lib\\site-packages\\numpy\\lib\\function_base.py\", line 550, in average\n",
      "    avg = np.multiply(a, wgt,\n",
      "  File \"C:\\Users\\Feri\\AppData\\Local\\Programs\\Python\\Python310\\lib\\site-packages\\scipy\\sparse\\_base.py\", line 590, in __mul__\n",
      "    return self._mul_dispatch(other)\n",
      "  File \"C:\\Users\\Feri\\AppData\\Local\\Programs\\Python\\Python310\\lib\\site-packages\\scipy\\sparse\\_base.py\", line 536, in _mul_dispatch\n",
      "    return self._mul_scalar(other)\n",
      "  File \"C:\\Users\\Feri\\AppData\\Local\\Programs\\Python\\Python310\\lib\\site-packages\\scipy\\sparse\\_data.py\", line 124, in _mul_scalar\n",
      "    return self._with_data(self.data * other)\n",
      "  File \"C:\\Users\\Feri\\AppData\\Local\\Programs\\Python\\Python310\\lib\\site-packages\\scipy\\sparse\\_compressed.py\", line 1231, in _with_data\n",
      "    self.indptr.copy()),\n",
      "numpy.core._exceptions.MemoryError: Unable to allocate 81.0 KiB for an array with shape (20724,) and data type int32\n"
     ]
    },
    {
     "name": "stdout",
     "output_type": "stream",
     "text": [
      "Found heuristic solution: objective -10000.00000\n",
      "\n",
      "Explored 0 nodes (0 simplex iterations) in 73.67 seconds (0.00 work units)\n",
      "Thread count was 1 (of 8 available processors)\n",
      "\n",
      "Solution count 1: -10000 \n",
      "No other solutions better than -10000\n",
      "\n",
      "Optimal solution found (tolerance 1.00e-04)\n",
      "Best objective -1.000000000000e+04, best bound -1.000000000000e+04, gap 0.0000%\n",
      "\n",
      "User-callback calls 25, time in user-callback 73.65 sec\n"
     ]
    }
   ],
   "source": [
    "from Methods import BD_BandB\n",
    "optimal_x, optimal_obj, x_keys, num_locations = BD_BandB(models=models[:2], probs=probs[:2], TMatrices=TMatrices, rVectors=rVectors, x_keys=x_keys)"
   ],
   "metadata": {
    "collapsed": false,
    "ExecuteTime": {
     "end_time": "2025-04-16T20:58:17.082174500Z",
     "start_time": "2025-04-16T20:57:03.259406300Z"
    }
   }
  },
  {
   "cell_type": "markdown",
   "source": [
    "### Reporting"
   ],
   "metadata": {
    "collapsed": false
   }
  },
  {
   "cell_type": "code",
   "execution_count": null,
   "outputs": [],
   "source": [
    "from Methods import solve_subproblems\n",
    "x_u_I, x_u_E = solve_subproblems(models, optimal_x, x_keys)"
   ],
   "metadata": {
    "collapsed": false
   }
  }
 ],
 "metadata": {
  "kernelspec": {
   "display_name": "Python 3",
   "language": "python",
   "name": "python3"
  },
  "language_info": {
   "codemirror_mode": {
    "name": "ipython",
    "version": 2
   },
   "file_extension": ".py",
   "mimetype": "text/x-python",
   "name": "python",
   "nbconvert_exporter": "python",
   "pygments_lexer": "ipython2",
   "version": "2.7.6"
  }
 },
 "nbformat": 4,
 "nbformat_minor": 0
}
