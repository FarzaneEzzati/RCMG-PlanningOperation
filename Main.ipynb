{
 "cells": [
  {
   "cell_type": "code",
   "execution_count": 1,
   "metadata": {
    "ExecuteTime": {
     "end_time": "2025-04-16T19:39:37.567230800Z",
     "start_time": "2025-04-16T19:39:36.867525900Z"
    },
    "collapsed": false
   },
   "outputs": [],
   "source": [
    "import pandas as pd\n",
    "import gurobipy as gp"
   ]
  },
  {
   "cell_type": "code",
   "execution_count": 2,
   "metadata": {
    "ExecuteTime": {
     "end_time": "2025-04-16T19:39:38.567996600Z",
     "start_time": "2025-04-16T19:39:38.464227600Z"
    },
    "collapsed": false
   },
   "outputs": [
    {
     "name": "stdout",
     "output_type": "stream",
     "text": [
      "Set parameter TokenServer to value \"ioml.ie.e.uh.edu\"\n",
      "Set parameter TokenServer to value \"ioml.ie.e.uh.edu\"\n",
      "Set parameter TokenServer to value \"ioml.ie.e.uh.edu\"\n"
     ]
    }
   ],
   "source": [
    "%load_ext autoreload\n",
    "%autoreload 2\n",
    "%aimport ModelGenerator\n",
    "%aimport Methods"
   ]
  },
  {
   "cell_type": "code",
   "execution_count": 3,
   "metadata": {},
   "outputs": [],
   "source": [
    "mg_id = 0"
   ]
  },
  {
   "cell_type": "markdown",
   "metadata": {
    "collapsed": false
   },
   "source": [
    "#### Build Models"
   ]
  },
  {
   "cell_type": "code",
   "execution_count": 7,
   "metadata": {
    "ExecuteTime": {
     "end_time": "2025-04-16T18:53:13.981288700Z",
     "start_time": "2025-04-16T18:47:42.968529200Z"
    },
    "collapsed": false
   },
   "outputs": [
    {
     "name": "stdout",
     "output_type": "stream",
     "text": [
      "Set parameter TokenServer to value \"ioml.ie.e.uh.edu\"\n"
     ]
    },
    {
     "name": "stderr",
     "output_type": "stream",
     "text": [
      "100%|██████████| 27/27 [07:48<00:00, 17.35s/it]"
     ]
    },
    {
     "name": "stdout",
     "output_type": "stream",
     "text": [
      "svmem(total=405521780736, available=396265259008, percent=2.3, used=7650013184, free=387713523712, active=8578433024, inactive=5449785344, buffers=14938112, cached=10143305728, shared=442130432, slab=705904640)\n",
      "Used: 2.3% | Available: 396.27 GB\n"
     ]
    },
    {
     "name": "stderr",
     "output_type": "stream",
     "text": [
      "\n"
     ]
    }
   ],
   "source": [
    "from ModelGenerator import build_model\n",
    "build_model(mg_id=0)"
   ]
  },
  {
   "cell_type": "markdown",
   "metadata": {
    "collapsed": false
   },
   "source": [
    "#### Load Subproblems"
   ]
  },
  {
   "cell_type": "code",
   "execution_count": 4,
   "metadata": {
    "ExecuteTime": {
     "end_time": "2025-04-16T20:44:49.066905Z",
     "start_time": "2025-04-16T20:44:36.801645900Z"
    },
    "collapsed": false
   },
   "outputs": [
    {
     "name": "stdout",
     "output_type": "stream",
     "text": [
      "Loading Subproblems\n"
     ]
    },
    {
     "name": "stderr",
     "output_type": "stream",
     "text": [
      "Loading: 100%|██████████| 27/27 [00:08<00:00,  3.26it/s]\n"
     ]
    }
   ],
   "source": [
    "from Methods import LoadSubProblems\n",
    "models, probs, TMatrices, rVectors = LoadSubProblems()"
   ]
  },
  {
   "cell_type": "markdown",
   "metadata": {
    "collapsed": false
   },
   "source": [
    "#### Solve by Callback"
   ]
  },
  {
   "cell_type": "code",
   "execution_count": 8,
   "metadata": {
    "ExecuteTime": {
     "end_time": "2025-04-16T20:58:17.082174500Z",
     "start_time": "2025-04-16T20:57:03.259406300Z"
    },
    "collapsed": false
   },
   "outputs": [
    {
     "name": "stdout",
     "output_type": "stream",
     "text": [
      "[ 0.  0.  0. ... -0. -0. -0.]\n",
      "cut added\n",
      "[0 0 0 0 0 0 0 0 0 0 0 0 0 0 0] 0.0\n",
      "[ 0.  0.  0. ... -0. -0. -0.]\n",
      "cut added\n",
      "[0 0 0 0 0 0 0 0 0 0 0 0 0 0 0] 0.0\n",
      "[ 0.  0.  0. ... -0. -0. -0.]\n",
      "cut added\n",
      "[0 0 0 0 0 0 0 0 0 0 0 0 0 0 0] 0.0\n",
      "[ 0.  0.  0. ... -0. -0. -0.]\n",
      "cut added\n",
      "[0 0 0 0 0 0 0 0 0 0 0 0 0 0 0] 0.0\n",
      "[ 0.  0.  0. ... -0. -0. -0.]\n",
      "cut added\n",
      "[0 0 0 0 0 0 0 0 0 0 0 0 0 0 0] 0.0\n",
      "[ 0.  0.  0. ... -0. -0. -0.]\n",
      "cut added\n",
      "[0 0 0 0 0 0 0 0 0 0 0 0 0 0 0] 0.0\n"
     ]
    }
   ],
   "source": [
    "from Methods import solve_with_BD_BandB\n",
    "s = 2\n",
    "optimal_x, optimal_obj, x_keys, num_locations = solve_with_BD_BandB(models=models[:2], \n",
    "                                                                    probs=probs[:2], \n",
    "                                                                    TMatrices=TMatrices[:2], \n",
    "                                                                    rVectors=rVectors[:2])\n",
    "optimal_x_reshaped = optimal_x.reshape(num_locations, 4)"
   ]
  },
  {
   "cell_type": "code",
   "execution_count": 10,
   "metadata": {},
   "outputs": [],
   "source": [
    "import numpy as np\n",
    "x_test = np.array([20, 30, 0, 0, 0, 0, 0, 0, 0, 10, 30 ,20, 0, 0, 0, 1, 0, 0, 1, 0])"
   ]
  },
  {
   "cell_type": "markdown",
   "metadata": {
    "collapsed": false
   },
   "source": [
    "### Reporting"
   ]
  },
  {
   "cell_type": "code",
   "execution_count": 11,
   "metadata": {
    "collapsed": false
   },
   "outputs": [],
   "source": [
    "from Methods import solve_subproblems\n",
    "x_u_I, x_u_E = solve_subproblems(sub_models=models, \n",
    "                                 optimal_x=x_test, \n",
    "                                 x_keys=x_keys, \n",
    "                                 probs=probs, \n",
    "                                 num_locations=num_locations,\n",
    "                                 mg_id=mg_id)"
   ]
  },
  {
   "cell_type": "code",
   "execution_count": 63,
   "metadata": {
    "collapsed": false
   },
   "outputs": [
    {
     "data": {
      "text/plain": [
       "array([-0., -0., -0., -0., -0., -0., -0., -0., -0., -0., -0., -0., -0.,\n",
       "       -0., -0., -0., -0., -0., -0., -0.])"
      ]
     },
     "execution_count": 63,
     "metadata": {},
     "output_type": "execute_result"
    }
   ],
   "source": [
    "optimal_x"
   ]
  }
 ],
 "metadata": {
  "kernelspec": {
   "display_name": "Python 3",
   "language": "python",
   "name": "python3"
  },
  "language_info": {
   "codemirror_mode": {
    "name": "ipython",
    "version": 3
   },
   "file_extension": ".py",
   "mimetype": "text/x-python",
   "name": "python",
   "nbconvert_exporter": "python",
   "pygments_lexer": "ipython3",
   "version": "3.11.5"
  }
 },
 "nbformat": 4,
 "nbformat_minor": 0
}
