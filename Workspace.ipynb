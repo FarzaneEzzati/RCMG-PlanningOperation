{
 "cells": [
  {
   "cell_type": "code",
   "execution_count": 1,
   "metadata": {
    "collapsed": true,
    "ExecuteTime": {
     "end_time": "2025-04-30T15:44:04.460054800Z",
     "start_time": "2025-04-30T15:44:02.324447Z"
    }
   },
   "outputs": [
    {
     "name": "stdout",
     "output_type": "stream",
     "text": [
      "Set parameter Username\n",
      "Set parameter LicenseID to value 2625858\n",
      "Academic license - for non-commercial use only - expires 2026-02-20\n",
      "Set parameter Username\n",
      "Set parameter LicenseID to value 2625858\n",
      "Academic license - for non-commercial use only - expires 2026-02-20\n",
      "Set parameter Username\n",
      "Set parameter LicenseID to value 2625858\n",
      "Academic license - for non-commercial use only - expires 2026-02-20\n"
     ]
    }
   ],
   "source": [
    "import gurobipy as gp\n",
    "%load_ext autoreload\n",
    "%autoreload 2\n",
    "%aimport ModelGenerator\n",
    "%aimport Methods"
   ]
  },
  {
   "cell_type": "code",
   "execution_count": 2,
   "outputs": [],
   "source": [
    "mg_id = 0"
   ],
   "metadata": {
    "collapsed": false,
    "ExecuteTime": {
     "end_time": "2025-04-30T15:44:04.554775Z",
     "start_time": "2025-04-30T15:44:04.401283600Z"
    }
   }
  },
  {
   "cell_type": "code",
   "execution_count": 34,
   "outputs": [
    {
     "name": "stdout",
     "output_type": "stream",
     "text": [
      "Set parameter Username\n",
      "Set parameter LicenseID to value 2625858\n",
      "Academic license - for non-commercial use only - expires 2026-02-20\n"
     ]
    },
    {
     "name": "stderr",
     "output_type": "stream",
     "text": [
      "  0%|          | 0/27 [00:00<?, ?it/s]"
     ]
    },
    {
     "name": "stdout",
     "output_type": "stream",
     "text": [
      "Yeah\n",
      "0.0\n",
      "0.0\n"
     ]
    },
    {
     "name": "stderr",
     "output_type": "stream",
     "text": [
      "  4%|▎         | 1/27 [00:07<03:27,  7.98s/it]\n"
     ]
    },
    {
     "ename": "KeyboardInterrupt",
     "evalue": "",
     "output_type": "error",
     "traceback": [
      "\u001B[1;31m---------------------------------------------------------------------------\u001B[0m",
      "\u001B[1;31mKeyboardInterrupt\u001B[0m                         Traceback (most recent call last)",
      "Cell \u001B[1;32mIn[34], line 3\u001B[0m\n\u001B[0;32m      1\u001B[0m \u001B[38;5;66;03m#### Build Models\u001B[39;00m\n\u001B[0;32m      2\u001B[0m \u001B[38;5;28;01mfrom\u001B[39;00m \u001B[38;5;21;01mModelGenerator\u001B[39;00m \u001B[38;5;28;01mimport\u001B[39;00m build_models\n\u001B[1;32m----> 3\u001B[0m master, subproblems, TMatrices, rVectors, Pr, Loads \u001B[38;5;241m=\u001B[39m \u001B[43mbuild_models\u001B[49m\u001B[43m(\u001B[49m\u001B[43mmg_id\u001B[49m\u001B[38;5;241;43m=\u001B[39;49m\u001B[38;5;241;43m0\u001B[39;49m\u001B[43m)\u001B[49m\n",
      "File \u001B[1;32m~\\PycharmProjects\\DOE2\\ModelGenerator.py:145\u001B[0m, in \u001B[0;36mbuild_models\u001B[1;34m(mg_id)\u001B[0m\n\u001B[0;32m    143\u001B[0m Y_LSh \u001B[38;5;241m=\u001B[39m sub\u001B[38;5;241m.\u001B[39maddMVar((I, G, T), name\u001B[38;5;241m=\u001B[39m\u001B[38;5;124mf\u001B[39m\u001B[38;5;124m'\u001B[39m\u001B[38;5;124mY_LSh\u001B[39m\u001B[38;5;124m'\u001B[39m)\n\u001B[0;32m    144\u001B[0m Y_I \u001B[38;5;241m=\u001B[39m sub\u001B[38;5;241m.\u001B[39maddMVar((I, G, T), name\u001B[38;5;241m=\u001B[39m\u001B[38;5;124m'\u001B[39m\u001B[38;5;124mY_I\u001B[39m\u001B[38;5;124m'\u001B[39m)\n\u001B[1;32m--> 145\u001B[0m Y_LT \u001B[38;5;241m=\u001B[39m \u001B[43msub\u001B[49m\u001B[38;5;241;43m.\u001B[39;49m\u001B[43maddMVar\u001B[49m\u001B[43m(\u001B[49m\u001B[43m(\u001B[49m\u001B[43mI\u001B[49m\u001B[43m,\u001B[49m\u001B[43m \u001B[49m\u001B[43mG\u001B[49m\u001B[43m,\u001B[49m\u001B[43m \u001B[49m\u001B[43mT\u001B[49m\u001B[43m,\u001B[49m\u001B[43m \u001B[49m\u001B[43mT\u001B[49m\u001B[43m)\u001B[49m\u001B[43m,\u001B[49m\u001B[43m \u001B[49m\u001B[43mname\u001B[49m\u001B[38;5;241;43m=\u001B[39;49m\u001B[38;5;124;43mf\u001B[39;49m\u001B[38;5;124;43m'\u001B[39;49m\u001B[38;5;124;43mY_LT\u001B[39;49m\u001B[38;5;124;43m'\u001B[39;49m\u001B[43m)\u001B[49m\n\u001B[0;32m    146\u001B[0m sub\u001B[38;5;241m.\u001B[39mupdate()\n\u001B[0;32m    148\u001B[0m \u001B[38;5;66;03m###### Prepare Load, Outage, and Load Growth\u001B[39;00m\n",
      "File \u001B[1;32msrc\\gurobipy\\model.pxi:3058\u001B[0m, in \u001B[0;36mgurobipy.Model.addMVar\u001B[1;34m()\u001B[0m\n",
      "File \u001B[1;32m<__array_function__ internals>:179\u001B[0m, in \u001B[0;36mravel\u001B[1;34m(*args, **kwargs)\u001B[0m\n",
      "File \u001B[1;32m~\\AppData\\Local\\Programs\\Python\\Python310\\lib\\site-packages\\numpy\\core\\fromnumeric.py:1751\u001B[0m, in \u001B[0;36m_ravel_dispatcher\u001B[1;34m(a, order)\u001B[0m\n\u001B[0;32m   1747\u001B[0m     \u001B[38;5;28;01melse\u001B[39;00m:\n\u001B[0;32m   1748\u001B[0m         \u001B[38;5;28;01mreturn\u001B[39;00m asanyarray(a)\u001B[38;5;241m.\u001B[39mtrace(offset\u001B[38;5;241m=\u001B[39moffset, axis1\u001B[38;5;241m=\u001B[39maxis1, axis2\u001B[38;5;241m=\u001B[39maxis2, dtype\u001B[38;5;241m=\u001B[39mdtype, out\u001B[38;5;241m=\u001B[39mout)\n\u001B[1;32m-> 1751\u001B[0m \u001B[38;5;28;01mdef\u001B[39;00m \u001B[38;5;21m_ravel_dispatcher\u001B[39m(a, order\u001B[38;5;241m=\u001B[39m\u001B[38;5;28;01mNone\u001B[39;00m):\n\u001B[0;32m   1752\u001B[0m     \u001B[38;5;28;01mreturn\u001B[39;00m (a,)\n\u001B[0;32m   1755\u001B[0m \u001B[38;5;129m@array_function_dispatch\u001B[39m(_ravel_dispatcher)\n\u001B[0;32m   1756\u001B[0m \u001B[38;5;28;01mdef\u001B[39;00m \u001B[38;5;21mravel\u001B[39m(a, order\u001B[38;5;241m=\u001B[39m\u001B[38;5;124m'\u001B[39m\u001B[38;5;124mC\u001B[39m\u001B[38;5;124m'\u001B[39m):\n",
      "\u001B[1;31mKeyboardInterrupt\u001B[0m: "
     ]
    }
   ],
   "source": [
    "#### Build Models\n",
    "from ModelGenerator import build_models\n",
    "master, subproblems, TMatrices, rVectors, Pr, Loads = build_models(mg_id=0)"
   ],
   "metadata": {
    "collapsed": false,
    "ExecuteTime": {
     "end_time": "2025-04-30T18:03:00.542783100Z",
     "start_time": "2025-04-30T18:02:52.184134Z"
    }
   }
  },
  {
   "cell_type": "code",
   "execution_count": null,
   "outputs": [],
   "source": [
    "#### Solve by Callback\n",
    "from Methods import solve_with_BD_BandB\n",
    "s = 2\n",
    "optimal_x, optimal_obj, x_keys, num_locations = solve_with_BD_BandB(models=models[:2],\n",
    "                                                                    probs=probs[:2],\n",
    "                                                                    TMatrices=TMatrices[:2],\n",
    "                                                                    rVectors=rVectors[:2])\n",
    "optimal_x_reshaped = optimal_x.reshape(num_locations, 4)"
   ],
   "metadata": {
    "collapsed": false
   }
  },
  {
   "cell_type": "code",
   "execution_count": null,
   "outputs": [],
   "source": [
    "import numpy as np\n",
    "x_test = np.array([20, 30, 0, 0, 0, 0, 0, 0, 0, 10, 30, 20, 0, 0, 0, 1, 0, 0, 1, 0])"
   ],
   "metadata": {
    "collapsed": false
   }
  },
  {
   "cell_type": "code",
   "execution_count": null,
   "outputs": [],
   "source": [
    "### Reporting\n",
    "from Methods import solve_subproblems\n",
    "x_u_I, x_u_E = solve_subproblems(sub_models=models,\n",
    "                                 optimal_x=x_test,\n",
    "                                 x_keys=x_keys,\n",
    "                                 probs=probs,\n",
    "                                 num_locations=num_locations,\n",
    "                                 mg_id=mg_id)"
   ],
   "metadata": {
    "collapsed": false
   }
  }
 ],
 "metadata": {
  "kernelspec": {
   "display_name": "Python 3",
   "language": "python",
   "name": "python3"
  },
  "language_info": {
   "codemirror_mode": {
    "name": "ipython",
    "version": 2
   },
   "file_extension": ".py",
   "mimetype": "text/x-python",
   "name": "python",
   "nbconvert_exporter": "python",
   "pygments_lexer": "ipython2",
   "version": "2.7.6"
  }
 },
 "nbformat": 4,
 "nbformat_minor": 0
}
