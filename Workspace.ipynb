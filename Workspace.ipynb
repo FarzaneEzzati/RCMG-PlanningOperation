{
 "cells": [
  {
   "cell_type": "code",
   "execution_count": null,
   "metadata": {
    "collapsed": true
   },
   "outputs": [],
   "source": [
    "import gurobipy as gp\n",
    "%load_ext autoreload\n",
    "%autoreload 2\n",
    "%aimport ModelGenerator\n",
    "%aimport Methods"
   ]
  },
  {
   "cell_type": "code",
   "execution_count": null,
   "outputs": [],
   "source": [
    "mg_id = 0"
   ],
   "metadata": {
    "collapsed": false
   }
  },
  {
   "cell_type": "code",
   "execution_count": null,
   "outputs": [],
   "source": [
    "#### Build Models\n",
    "from ModelGenerator import build_models\n",
    "master, subproblems, TMatrices, rVectors, Pr, Loads = build_models(mg_id=0)"
   ],
   "metadata": {
    "collapsed": false
   }
  },
  {
   "cell_type": "code",
   "execution_count": null,
   "outputs": [],
   "source": [
    "#### Solve by Callback\n",
    "from Methods import solve_with_BD_BandB\n",
    "s = 2\n",
    "optimal_x, optimal_obj, x_keys, num_locations = solve_with_BD_BandB(models=models[:2],\n",
    "                                                                    probs=probs[:2],\n",
    "                                                                    TMatrices=TMatrices[:2],\n",
    "                                                                    rVectors=rVectors[:2])\n",
    "optimal_x_reshaped = optimal_x.reshape(num_locations, 4)"
   ],
   "metadata": {
    "collapsed": false
   }
  },
  {
   "cell_type": "code",
   "execution_count": null,
   "outputs": [],
   "source": [
    "import numpy as np\n",
    "x_test = np.array([20, 30, 0, 0, 0, 0, 0, 0, 0, 10, 30, 20, 0, 0, 0, 1, 0, 0, 1, 0])"
   ],
   "metadata": {
    "collapsed": false
   }
  },
  {
   "cell_type": "code",
   "execution_count": null,
   "outputs": [],
   "source": [
    "### Reporting\n",
    "from Methods import solve_subproblems\n",
    "x_u_I, x_u_E = solve_subproblems(sub_models=models,\n",
    "                                 optimal_x=x_test,\n",
    "                                 x_keys=x_keys,\n",
    "                                 probs=probs,\n",
    "                                 num_locations=num_locations,\n",
    "                                 mg_id=mg_id)"
   ],
   "metadata": {
    "collapsed": false
   }
  }
 ],
 "metadata": {
  "kernelspec": {
   "display_name": "Python 3",
   "language": "python",
   "name": "python3"
  },
  "language_info": {
   "codemirror_mode": {
    "name": "ipython",
    "version": 2
   },
   "file_extension": ".py",
   "mimetype": "text/x-python",
   "name": "python",
   "nbconvert_exporter": "python",
   "pygments_lexer": "ipython2",
   "version": "2.7.6"
  }
 },
 "nbformat": 4,
 "nbformat_minor": 0
}
