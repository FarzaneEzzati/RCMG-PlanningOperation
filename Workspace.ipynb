{
 "cells": [
  {
   "cell_type": "code",
   "execution_count": 1,
   "metadata": {
    "collapsed": true,
    "ExecuteTime": {
     "end_time": "2025-04-29T22:32:39.584460200Z",
     "start_time": "2025-04-29T22:32:38.957866700Z"
    }
   },
   "outputs": [
    {
     "name": "stdout",
     "output_type": "stream",
     "text": [
      "Set parameter Username\n",
      "Set parameter LicenseID to value 2625858\n",
      "Academic license - for non-commercial use only - expires 2026-02-20\n",
      "Set parameter Username\n",
      "Set parameter LicenseID to value 2625858\n",
      "Academic license - for non-commercial use only - expires 2026-02-20\n",
      "Set parameter Username\n",
      "Set parameter LicenseID to value 2625858\n",
      "Academic license - for non-commercial use only - expires 2026-02-20\n"
     ]
    }
   ],
   "source": [
    "import gurobipy as gp\n",
    "%load_ext autoreload\n",
    "%autoreload 2\n",
    "%aimport ModelGenerator\n",
    "%aimport Methods"
   ]
  },
  {
   "cell_type": "code",
   "execution_count": 2,
   "outputs": [],
   "source": [
    "mg_id = 0"
   ],
   "metadata": {
    "collapsed": false,
    "ExecuteTime": {
     "end_time": "2025-04-29T22:32:39.610556400Z",
     "start_time": "2025-04-29T22:32:39.536207700Z"
    }
   }
  },
  {
   "cell_type": "code",
   "execution_count": 14,
   "outputs": [
    {
     "name": "stdout",
     "output_type": "stream",
     "text": [
      "Set parameter Username\n",
      "Set parameter LicenseID to value 2625858\n",
      "Academic license - for non-commercial use only - expires 2026-02-20\n"
     ]
    },
    {
     "name": "stderr",
     "output_type": "stream",
     "text": [
      "  0%|          | 0/27 [00:00<?, ?it/s]"
     ]
    },
    {
     "name": "stdout",
     "output_type": "stream",
     "text": [
      "0\n",
      "0.0\n",
      "0.28734755516052246\n",
      "0.0\n",
      "0.11092972755432129\n",
      "0.0\n",
      "0.09614849090576172\n",
      "0.0\n",
      "0.11001825332641602\n",
      "0.0\n",
      "0.09598278999328613\n",
      "0.0\n",
      "0.10991883277893066\n",
      "0.0\n",
      "0.1087806224822998\n",
      "0.0\n",
      "0.09530258178710938\n",
      "0.0\n",
      "0.10962200164794922\n",
      "0.0\n",
      "0.09487724304199219\n",
      "0.01578807830810547\n",
      "0.11015057563781738\n",
      "0.01585698127746582\n",
      "0.10050368309020996\n",
      "0.0\n",
      "0.11357927322387695\n",
      "0.0\n",
      "0.09764242172241211\n",
      "0.0\n",
      "0.09777951240539551\n",
      "0.0\n",
      "0.11159729957580566\n",
      "0.0\n",
      "0.09734821319580078\n",
      "0.0\n",
      "0.10925984382629395\n",
      "0.0\n",
      "0.110626220703125\n",
      "0.0\n",
      "0.11138033866882324\n",
      "0.0\n"
     ]
    },
    {
     "name": "stderr",
     "output_type": "stream",
     "text": [
      "  0%|          | 0/27 [00:05<?, ?it/s]"
     ]
    },
    {
     "name": "stdout",
     "output_type": "stream",
     "text": [
      "0.09537458419799805\n",
      "0.0\n",
      "0.11060380935668945\n"
     ]
    },
    {
     "name": "stderr",
     "output_type": "stream",
     "text": [
      "\n"
     ]
    },
    {
     "ename": "KeyboardInterrupt",
     "evalue": "",
     "output_type": "error",
     "traceback": [
      "\u001B[1;31m---------------------------------------------------------------------------\u001B[0m",
      "\u001B[1;31mKeyboardInterrupt\u001B[0m                         Traceback (most recent call last)",
      "Cell \u001B[1;32mIn[14], line 3\u001B[0m\n\u001B[0;32m      1\u001B[0m \u001B[38;5;66;03m#### Build Models\u001B[39;00m\n\u001B[0;32m      2\u001B[0m \u001B[38;5;28;01mfrom\u001B[39;00m \u001B[38;5;21;01mModelGenerator\u001B[39;00m \u001B[38;5;28;01mimport\u001B[39;00m build_models\n\u001B[1;32m----> 3\u001B[0m master, subproblems, TMatrices, rVectors, Pr, Loads \u001B[38;5;241m=\u001B[39m \u001B[43mbuild_models\u001B[49m\u001B[43m(\u001B[49m\u001B[43mmg_id\u001B[49m\u001B[38;5;241;43m=\u001B[39;49m\u001B[38;5;241;43m0\u001B[39;49m\u001B[43m)\u001B[49m\n",
      "File \u001B[1;32m~\\PycharmProjects\\DOE2\\ModelGenerator.py:179\u001B[0m, in \u001B[0;36mbuild_models\u001B[1;34m(mg_id)\u001B[0m\n\u001B[0;32m    177\u001B[0m \u001B[38;5;28;01mfor\u001B[39;00m t \u001B[38;5;129;01min\u001B[39;00m t_index:\n\u001B[0;32m    178\u001B[0m     trans_to_t \u001B[38;5;241m=\u001B[39m \u001B[38;5;28msum\u001B[39m(Y_LT[i, g, to, t] \u001B[38;5;28;01mfor\u001B[39;00m to \u001B[38;5;129;01min\u001B[39;00m \u001B[38;5;28mrange\u001B[39m(t))\n\u001B[1;32m--> 179\u001B[0m     trans_from_t \u001B[38;5;241m=\u001B[39m \u001B[38;5;28;43msum\u001B[39;49m\u001B[43m(\u001B[49m\u001B[43mY_LT\u001B[49m\u001B[43m[\u001B[49m\u001B[43mi\u001B[49m\u001B[43m,\u001B[49m\u001B[43m \u001B[49m\u001B[43mg\u001B[49m\u001B[43m,\u001B[49m\u001B[43m \u001B[49m\u001B[43mt\u001B[49m\u001B[43m,\u001B[49m\u001B[43m \u001B[49m\u001B[43mto\u001B[49m\u001B[43m]\u001B[49m\u001B[43m \u001B[49m\u001B[38;5;28;43;01mfor\u001B[39;49;00m\u001B[43m \u001B[49m\u001B[43mto\u001B[49m\u001B[43m \u001B[49m\u001B[38;5;129;43;01min\u001B[39;49;00m\u001B[43m \u001B[49m\u001B[38;5;28;43mrange\u001B[39;49m\u001B[43m(\u001B[49m\u001B[43mt\u001B[49m\u001B[38;5;241;43m+\u001B[39;49m\u001B[38;5;241;43m1\u001B[39;49m\u001B[43m,\u001B[49m\u001B[43m \u001B[49m\u001B[43mT\u001B[49m\u001B[43m)\u001B[49m\u001B[43m)\u001B[49m\n\u001B[0;32m    180\u001B[0m     sub_constrs[\u001B[38;5;124mf\u001B[39m\u001B[38;5;124m'\u001B[39m\u001B[38;5;124mes_dis[\u001B[39m\u001B[38;5;132;01m{\u001B[39;00mi\u001B[38;5;132;01m}\u001B[39;00m\u001B[38;5;124m,\u001B[39m\u001B[38;5;132;01m{\u001B[39;00mg\u001B[38;5;132;01m}\u001B[39;00m\u001B[38;5;124m,\u001B[39m\u001B[38;5;132;01m{\u001B[39;00mt\u001B[38;5;132;01m}\u001B[39;00m\u001B[38;5;124m]\u001B[39m\u001B[38;5;124m'\u001B[39m] \u001B[38;5;241m=\u001B[39m Y_ESL[i, g, t] \u001B[38;5;241m+\u001B[39m Y_ESGrid[i, g, t] \u001B[38;5;241m<\u001B[39m\u001B[38;5;241m=\u001B[39m (es_soc_ub \u001B[38;5;241m-\u001B[39m es_soc_lb) \u001B[38;5;241m*\u001B[39m available_es\n\u001B[0;32m    181\u001B[0m     sub_constrs[\u001B[38;5;124mf\u001B[39m\u001B[38;5;124m'\u001B[39m\u001B[38;5;124mes_lb[\u001B[39m\u001B[38;5;132;01m{\u001B[39;00mi\u001B[38;5;132;01m}\u001B[39;00m\u001B[38;5;124m,\u001B[39m\u001B[38;5;132;01m{\u001B[39;00mg\u001B[38;5;132;01m}\u001B[39;00m\u001B[38;5;124m,\u001B[39m\u001B[38;5;132;01m{\u001B[39;00mt\u001B[38;5;132;01m}\u001B[39;00m\u001B[38;5;124m]\u001B[39m\u001B[38;5;124m'\u001B[39m] \u001B[38;5;241m=\u001B[39m Y_E[i, g, t] \u001B[38;5;241m+\u001B[39m trans_to_t \u001B[38;5;241m>\u001B[39m\u001B[38;5;241m=\u001B[39m es_soc_lb \u001B[38;5;241m*\u001B[39m available_es\n",
      "File \u001B[1;32msrc\\gurobipy\\mlinexpr.pxi:892\u001B[0m, in \u001B[0;36mgurobipy.MLinExpr.__add__\u001B[1;34m()\u001B[0m\n",
      "File \u001B[1;32msrc\\gurobipy\\mlinexpr.pxi:981\u001B[0m, in \u001B[0;36mgurobipy.MLinExpr._add_compact_mlinexpr\u001B[1;34m()\u001B[0m\n",
      "File \u001B[1;32msrc\\gurobipy\\mlinexpr.pxi:1024\u001B[0m, in \u001B[0;36mgurobipy.MLinExpr._add_compact_mlinexpr_compact\u001B[1;34m()\u001B[0m\n",
      "File \u001B[1;32m~\\AppData\\Local\\Programs\\Python\\Python310\\lib\\site-packages\\scipy\\sparse\\_construct.py:532\u001B[0m, in \u001B[0;36mhstack\u001B[1;34m(blocks, format, dtype)\u001B[0m\n\u001B[0;32m    502\u001B[0m \u001B[38;5;28;01mdef\u001B[39;00m \u001B[38;5;21mhstack\u001B[39m(blocks, \u001B[38;5;28mformat\u001B[39m\u001B[38;5;241m=\u001B[39m\u001B[38;5;28;01mNone\u001B[39;00m, dtype\u001B[38;5;241m=\u001B[39m\u001B[38;5;28;01mNone\u001B[39;00m):\n\u001B[0;32m    503\u001B[0m \u001B[38;5;250m    \u001B[39m\u001B[38;5;124;03m\"\"\"\u001B[39;00m\n\u001B[0;32m    504\u001B[0m \u001B[38;5;124;03m    Stack sparse matrices horizontally (column wise)\u001B[39;00m\n\u001B[0;32m    505\u001B[0m \n\u001B[1;32m   (...)\u001B[0m\n\u001B[0;32m    530\u001B[0m \n\u001B[0;32m    531\u001B[0m \u001B[38;5;124;03m    \"\"\"\u001B[39;00m\n\u001B[1;32m--> 532\u001B[0m     \u001B[38;5;28;01mreturn\u001B[39;00m \u001B[43mbmat\u001B[49m\u001B[43m(\u001B[49m\u001B[43m[\u001B[49m\u001B[43mblocks\u001B[49m\u001B[43m]\u001B[49m\u001B[43m,\u001B[49m\u001B[43m \u001B[49m\u001B[38;5;28;43mformat\u001B[39;49m\u001B[38;5;241;43m=\u001B[39;49m\u001B[38;5;28;43mformat\u001B[39;49m\u001B[43m,\u001B[49m\u001B[43m \u001B[49m\u001B[43mdtype\u001B[49m\u001B[38;5;241;43m=\u001B[39;49m\u001B[43mdtype\u001B[49m\u001B[43m)\u001B[49m\n",
      "File \u001B[1;32m~\\AppData\\Local\\Programs\\Python\\Python310\\lib\\site-packages\\scipy\\sparse\\_construct.py:624\u001B[0m, in \u001B[0;36mbmat\u001B[1;34m(blocks, format, dtype)\u001B[0m\n\u001B[0;32m    620\u001B[0m \u001B[38;5;28;01mif\u001B[39;00m (\u001B[38;5;28mformat\u001B[39m \u001B[38;5;129;01min\u001B[39;00m (\u001B[38;5;28;01mNone\u001B[39;00m, \u001B[38;5;124m'\u001B[39m\u001B[38;5;124mcsr\u001B[39m\u001B[38;5;124m'\u001B[39m) \u001B[38;5;129;01mand\u001B[39;00m \u001B[38;5;28mall\u001B[39m(\u001B[38;5;28misinstance\u001B[39m(b, csr_matrix)\n\u001B[0;32m    621\u001B[0m                                     \u001B[38;5;28;01mfor\u001B[39;00m b \u001B[38;5;129;01min\u001B[39;00m blocks\u001B[38;5;241m.\u001B[39mflat)):\n\u001B[0;32m    622\u001B[0m     \u001B[38;5;28;01mif\u001B[39;00m N \u001B[38;5;241m>\u001B[39m \u001B[38;5;241m1\u001B[39m:\n\u001B[0;32m    623\u001B[0m         \u001B[38;5;66;03m# stack along columns (axis 1):\u001B[39;00m\n\u001B[1;32m--> 624\u001B[0m         blocks \u001B[38;5;241m=\u001B[39m [[_stack_along_minor_axis(blocks[b, :], \u001B[38;5;241m1\u001B[39m)]\n\u001B[0;32m    625\u001B[0m                   \u001B[38;5;28;01mfor\u001B[39;00m b \u001B[38;5;129;01min\u001B[39;00m \u001B[38;5;28mrange\u001B[39m(M)]   \u001B[38;5;66;03m# must have shape: (M, 1)\u001B[39;00m\n\u001B[0;32m    626\u001B[0m         blocks \u001B[38;5;241m=\u001B[39m np\u001B[38;5;241m.\u001B[39masarray(blocks, dtype\u001B[38;5;241m=\u001B[39m\u001B[38;5;124m'\u001B[39m\u001B[38;5;124mobject\u001B[39m\u001B[38;5;124m'\u001B[39m)\n\u001B[0;32m    628\u001B[0m     \u001B[38;5;66;03m# stack along rows (axis 0):\u001B[39;00m\n",
      "File \u001B[1;32m~\\AppData\\Local\\Programs\\Python\\Python310\\lib\\site-packages\\scipy\\sparse\\_construct.py:624\u001B[0m, in \u001B[0;36m<listcomp>\u001B[1;34m(.0)\u001B[0m\n\u001B[0;32m    620\u001B[0m \u001B[38;5;28;01mif\u001B[39;00m (\u001B[38;5;28mformat\u001B[39m \u001B[38;5;129;01min\u001B[39;00m (\u001B[38;5;28;01mNone\u001B[39;00m, \u001B[38;5;124m'\u001B[39m\u001B[38;5;124mcsr\u001B[39m\u001B[38;5;124m'\u001B[39m) \u001B[38;5;129;01mand\u001B[39;00m \u001B[38;5;28mall\u001B[39m(\u001B[38;5;28misinstance\u001B[39m(b, csr_matrix)\n\u001B[0;32m    621\u001B[0m                                     \u001B[38;5;28;01mfor\u001B[39;00m b \u001B[38;5;129;01min\u001B[39;00m blocks\u001B[38;5;241m.\u001B[39mflat)):\n\u001B[0;32m    622\u001B[0m     \u001B[38;5;28;01mif\u001B[39;00m N \u001B[38;5;241m>\u001B[39m \u001B[38;5;241m1\u001B[39m:\n\u001B[0;32m    623\u001B[0m         \u001B[38;5;66;03m# stack along columns (axis 1):\u001B[39;00m\n\u001B[1;32m--> 624\u001B[0m         blocks \u001B[38;5;241m=\u001B[39m [[\u001B[43m_stack_along_minor_axis\u001B[49m\u001B[43m(\u001B[49m\u001B[43mblocks\u001B[49m\u001B[43m[\u001B[49m\u001B[43mb\u001B[49m\u001B[43m,\u001B[49m\u001B[43m \u001B[49m\u001B[43m:\u001B[49m\u001B[43m]\u001B[49m\u001B[43m,\u001B[49m\u001B[43m \u001B[49m\u001B[38;5;241;43m1\u001B[39;49m\u001B[43m)\u001B[49m]\n\u001B[0;32m    625\u001B[0m                   \u001B[38;5;28;01mfor\u001B[39;00m b \u001B[38;5;129;01min\u001B[39;00m \u001B[38;5;28mrange\u001B[39m(M)]   \u001B[38;5;66;03m# must have shape: (M, 1)\u001B[39;00m\n\u001B[0;32m    626\u001B[0m         blocks \u001B[38;5;241m=\u001B[39m np\u001B[38;5;241m.\u001B[39masarray(blocks, dtype\u001B[38;5;241m=\u001B[39m\u001B[38;5;124m'\u001B[39m\u001B[38;5;124mobject\u001B[39m\u001B[38;5;124m'\u001B[39m)\n\u001B[0;32m    628\u001B[0m     \u001B[38;5;66;03m# stack along rows (axis 0):\u001B[39;00m\n",
      "File \u001B[1;32m~\\AppData\\Local\\Programs\\Python\\Python310\\lib\\site-packages\\scipy\\sparse\\_construct.py:486\u001B[0m, in \u001B[0;36m_stack_along_minor_axis\u001B[1;34m(blocks, axis)\u001B[0m\n\u001B[0;32m    484\u001B[0m     indices \u001B[38;5;241m=\u001B[39m np\u001B[38;5;241m.\u001B[39mempty_like(indices_cat)\n\u001B[0;32m    485\u001B[0m     data \u001B[38;5;241m=\u001B[39m np\u001B[38;5;241m.\u001B[39mempty_like(data_cat)\n\u001B[1;32m--> 486\u001B[0m     \u001B[43mcsr_hstack\u001B[49m\u001B[43m(\u001B[49m\u001B[43mn_blocks\u001B[49m\u001B[43m,\u001B[49m\u001B[43m \u001B[49m\u001B[43mconstant_dim\u001B[49m\u001B[43m,\u001B[49m\u001B[43m \u001B[49m\u001B[43mstack_dim_cat\u001B[49m\u001B[43m,\u001B[49m\n\u001B[0;32m    487\u001B[0m \u001B[43m               \u001B[49m\u001B[43mindptr_cat\u001B[49m\u001B[43m,\u001B[49m\u001B[43m \u001B[49m\u001B[43mindices_cat\u001B[49m\u001B[43m,\u001B[49m\u001B[43m \u001B[49m\u001B[43mdata_cat\u001B[49m\u001B[43m,\u001B[49m\n\u001B[0;32m    488\u001B[0m \u001B[43m               \u001B[49m\u001B[43mindptr\u001B[49m\u001B[43m,\u001B[49m\u001B[43m \u001B[49m\u001B[43mindices\u001B[49m\u001B[43m,\u001B[49m\u001B[43m \u001B[49m\u001B[43mdata\u001B[49m\u001B[43m)\u001B[49m\n\u001B[0;32m    489\u001B[0m \u001B[38;5;28;01melse\u001B[39;00m:\n\u001B[0;32m    490\u001B[0m     indptr \u001B[38;5;241m=\u001B[39m np\u001B[38;5;241m.\u001B[39mzeros(constant_dim \u001B[38;5;241m+\u001B[39m \u001B[38;5;241m1\u001B[39m, dtype\u001B[38;5;241m=\u001B[39midx_dtype)\n",
      "\u001B[1;31mKeyboardInterrupt\u001B[0m: "
     ]
    }
   ],
   "source": [
    "#### Build Models\n",
    "from ModelGenerator import build_models\n",
    "master, subproblems, TMatrices, rVectors, Pr, Loads = build_models(mg_id=0)"
   ],
   "metadata": {
    "collapsed": false,
    "ExecuteTime": {
     "end_time": "2025-04-29T22:41:59.546970700Z",
     "start_time": "2025-04-29T22:41:53.248064100Z"
    }
   }
  },
  {
   "cell_type": "code",
   "execution_count": null,
   "outputs": [],
   "source": [
    "#### Solve by Callback\n",
    "from Methods import solve_with_BD_BandB\n",
    "s = 2\n",
    "optimal_x, optimal_obj, x_keys, num_locations = solve_with_BD_BandB(models=models[:2],\n",
    "                                                                    probs=probs[:2],\n",
    "                                                                    TMatrices=TMatrices[:2],\n",
    "                                                                    rVectors=rVectors[:2])\n",
    "optimal_x_reshaped = optimal_x.reshape(num_locations, 4)"
   ],
   "metadata": {
    "collapsed": false
   }
  },
  {
   "cell_type": "code",
   "execution_count": null,
   "outputs": [],
   "source": [
    "import numpy as np\n",
    "x_test = np.array([20, 30, 0, 0, 0, 0, 0, 0, 0, 10, 30, 20, 0, 0, 0, 1, 0, 0, 1, 0])"
   ],
   "metadata": {
    "collapsed": false
   }
  },
  {
   "cell_type": "code",
   "execution_count": null,
   "outputs": [],
   "source": [
    "### Reporting\n",
    "from Methods import solve_subproblems\n",
    "x_u_I, x_u_E = solve_subproblems(sub_models=models,\n",
    "                                 optimal_x=x_test,\n",
    "                                 x_keys=x_keys,\n",
    "                                 probs=probs,\n",
    "                                 num_locations=num_locations,\n",
    "                                 mg_id=mg_id)"
   ],
   "metadata": {
    "collapsed": false
   }
  }
 ],
 "metadata": {
  "kernelspec": {
   "display_name": "Python 3",
   "language": "python",
   "name": "python3"
  },
  "language_info": {
   "codemirror_mode": {
    "name": "ipython",
    "version": 2
   },
   "file_extension": ".py",
   "mimetype": "text/x-python",
   "name": "python",
   "nbconvert_exporter": "python",
   "pygments_lexer": "ipython2",
   "version": "2.7.6"
  }
 },
 "nbformat": 4,
 "nbformat_minor": 0
}
